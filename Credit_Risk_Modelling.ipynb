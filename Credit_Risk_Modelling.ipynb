{
  "nbformat": 4,
  "nbformat_minor": 0,
  "metadata": {
    "colab": {
      "name": "Credit Risk Modelling.ipynb",
      "provenance": [],
      "collapsed_sections": [],
      "include_colab_link": true
    },
    "kernelspec": {
      "name": "python3",
      "display_name": "Python 3"
    }
  },
  "cells": [
    {
      "cell_type": "markdown",
      "metadata": {
        "id": "view-in-github",
        "colab_type": "text"
      },
      "source": [
        "<a href=\"https://colab.research.google.com/github/bhaveshwadhwani/CreditRiskModelling/blob/master/Credit_Risk_Modelling.ipynb\" target=\"_parent\"><img src=\"https://colab.research.google.com/assets/colab-badge.svg\" alt=\"Open In Colab\"/></a>"
      ]
    },
    {
      "cell_type": "code",
      "metadata": {
        "id": "300HymYgd7Nj",
        "colab_type": "code",
        "outputId": "ffdf4a2a-0ccb-4d90-c3b2-0985bcb636f2",
        "colab": {
          "base_uri": "https://localhost:8080/",
          "height": 204
        }
      },
      "source": [
        "!wget https://assets.datacamp.com/production/repositories/4876/datasets/a2d8510b4aec8d0ac14ab9bee61ba3c085805967/cr_loan2.csv"
      ],
      "execution_count": 0,
      "outputs": [
        {
          "output_type": "stream",
          "text": [
            "--2019-12-26 04:30:38--  https://assets.datacamp.com/production/repositories/4876/datasets/a2d8510b4aec8d0ac14ab9bee61ba3c085805967/cr_loan2.csv\n",
            "Resolving assets.datacamp.com (assets.datacamp.com)... 54.240.168.3, 54.240.168.97, 54.240.168.76, ...\n",
            "Connecting to assets.datacamp.com (assets.datacamp.com)|54.240.168.3|:443... connected.\n",
            "HTTP request sent, awaiting response... 200 OK\n",
            "Length: 1740274 (1.7M) [application/vnd.ms-excel]\n",
            "Saving to: ‘cr_loan2.csv’\n",
            "\n",
            "\rcr_loan2.csv          0%[                    ]       0  --.-KB/s               \rcr_loan2.csv          7%[>                   ] 126.58K   534KB/s               \rcr_loan2.csv         64%[===========>        ]   1.07M  2.37MB/s               \rcr_loan2.csv        100%[===================>]   1.66M  3.30MB/s    in 0.5s    \n",
            "\n",
            "2019-12-26 04:30:39 (3.30 MB/s) - ‘cr_loan2.csv’ saved [1740274/1740274]\n",
            "\n"
          ],
          "name": "stdout"
        }
      ]
    },
    {
      "cell_type": "markdown",
      "metadata": {
        "id": "1BiD2OMqeWaK",
        "colab_type": "text"
      },
      "source": [
        "We begin by looking at the data set cr_loan. In this data set, loan_status shows whether the loan is currently in default with 1 being default and 0 being non-default."
      ]
    },
    {
      "cell_type": "markdown",
      "metadata": {
        "id": "f8TJmWgbeqOB",
        "colab_type": "text"
      },
      "source": [
        ""
      ]
    },
    {
      "cell_type": "code",
      "metadata": {
        "id": "UgJFaJXseq85",
        "colab_type": "code",
        "colab": {}
      },
      "source": [
        "import pandas as pd\n",
        "import numpy as np\n",
        "import matplotlib\n",
        "import matplotlib.pyplot as plt\n",
        "%matplotlib inline\n",
        "from sklearn.linear_model import LogisticRegression\n",
        "from sklearn.model_selection import train_test_split,cross_val_score\n",
        "from sklearn.metrics import classification_report\n",
        "from sklearn.metrics import roc_curve,roc_auc_score\n",
        "from sklearn.metrics import confusion_matrix\n"
      ],
      "execution_count": 0,
      "outputs": []
    },
    {
      "cell_type": "code",
      "metadata": {
        "id": "85nLCQl9emFR",
        "colab_type": "code",
        "colab": {}
      },
      "source": [
        "#Load the data\n",
        "cr_loan = pd.read_csv(\"cr_loan2.csv\")"
      ],
      "execution_count": 0,
      "outputs": []
    },
    {
      "cell_type": "code",
      "metadata": {
        "id": "hu-IOFq0eDsg",
        "colab_type": "code",
        "outputId": "6943df4b-eb6b-4fad-ba51-66e7a84ff15a",
        "colab": {
          "base_uri": "https://localhost:8080/",
          "height": 238
        }
      },
      "source": [
        "# Check the structure of the data\n",
        "print(cr_loan.dtypes)"
      ],
      "execution_count": 0,
      "outputs": [
        {
          "output_type": "stream",
          "text": [
            "person_age                      int64\n",
            "person_income                   int64\n",
            "person_home_ownership          object\n",
            "person_emp_length             float64\n",
            "loan_intent                    object\n",
            "loan_grade                     object\n",
            "loan_amnt                       int64\n",
            "loan_int_rate                 float64\n",
            "loan_status                     int64\n",
            "loan_percent_income           float64\n",
            "cb_person_default_on_file      object\n",
            "cb_person_cred_hist_length      int64\n",
            "dtype: object\n"
          ],
          "name": "stdout"
        }
      ]
    },
    {
      "cell_type": "code",
      "metadata": {
        "id": "QXhIaL7Ze-Xf",
        "colab_type": "code",
        "outputId": "cc2de7b1-25ef-49b6-df8c-ec6a98ed4573",
        "colab": {
          "base_uri": "https://localhost:8080/",
          "height": 224
        }
      },
      "source": [
        "# Check the first five rows of the data\n",
        "cr_loan.head()"
      ],
      "execution_count": 0,
      "outputs": [
        {
          "output_type": "execute_result",
          "data": {
            "text/html": [
              "<div>\n",
              "<style scoped>\n",
              "    .dataframe tbody tr th:only-of-type {\n",
              "        vertical-align: middle;\n",
              "    }\n",
              "\n",
              "    .dataframe tbody tr th {\n",
              "        vertical-align: top;\n",
              "    }\n",
              "\n",
              "    .dataframe thead th {\n",
              "        text-align: right;\n",
              "    }\n",
              "</style>\n",
              "<table border=\"1\" class=\"dataframe\">\n",
              "  <thead>\n",
              "    <tr style=\"text-align: right;\">\n",
              "      <th></th>\n",
              "      <th>person_age</th>\n",
              "      <th>person_income</th>\n",
              "      <th>person_home_ownership</th>\n",
              "      <th>person_emp_length</th>\n",
              "      <th>loan_intent</th>\n",
              "      <th>loan_grade</th>\n",
              "      <th>loan_amnt</th>\n",
              "      <th>loan_int_rate</th>\n",
              "      <th>loan_status</th>\n",
              "      <th>loan_percent_income</th>\n",
              "      <th>cb_person_default_on_file</th>\n",
              "      <th>cb_person_cred_hist_length</th>\n",
              "    </tr>\n",
              "  </thead>\n",
              "  <tbody>\n",
              "    <tr>\n",
              "      <th>0</th>\n",
              "      <td>22</td>\n",
              "      <td>59000</td>\n",
              "      <td>RENT</td>\n",
              "      <td>123.0</td>\n",
              "      <td>PERSONAL</td>\n",
              "      <td>D</td>\n",
              "      <td>35000</td>\n",
              "      <td>16.02</td>\n",
              "      <td>1</td>\n",
              "      <td>0.59</td>\n",
              "      <td>Y</td>\n",
              "      <td>3</td>\n",
              "    </tr>\n",
              "    <tr>\n",
              "      <th>1</th>\n",
              "      <td>21</td>\n",
              "      <td>9600</td>\n",
              "      <td>OWN</td>\n",
              "      <td>5.0</td>\n",
              "      <td>EDUCATION</td>\n",
              "      <td>B</td>\n",
              "      <td>1000</td>\n",
              "      <td>11.14</td>\n",
              "      <td>0</td>\n",
              "      <td>0.10</td>\n",
              "      <td>N</td>\n",
              "      <td>2</td>\n",
              "    </tr>\n",
              "    <tr>\n",
              "      <th>2</th>\n",
              "      <td>25</td>\n",
              "      <td>9600</td>\n",
              "      <td>MORTGAGE</td>\n",
              "      <td>1.0</td>\n",
              "      <td>MEDICAL</td>\n",
              "      <td>C</td>\n",
              "      <td>5500</td>\n",
              "      <td>12.87</td>\n",
              "      <td>1</td>\n",
              "      <td>0.57</td>\n",
              "      <td>N</td>\n",
              "      <td>3</td>\n",
              "    </tr>\n",
              "    <tr>\n",
              "      <th>3</th>\n",
              "      <td>23</td>\n",
              "      <td>65500</td>\n",
              "      <td>RENT</td>\n",
              "      <td>4.0</td>\n",
              "      <td>MEDICAL</td>\n",
              "      <td>C</td>\n",
              "      <td>35000</td>\n",
              "      <td>15.23</td>\n",
              "      <td>1</td>\n",
              "      <td>0.53</td>\n",
              "      <td>N</td>\n",
              "      <td>2</td>\n",
              "    </tr>\n",
              "    <tr>\n",
              "      <th>4</th>\n",
              "      <td>24</td>\n",
              "      <td>54400</td>\n",
              "      <td>RENT</td>\n",
              "      <td>8.0</td>\n",
              "      <td>MEDICAL</td>\n",
              "      <td>C</td>\n",
              "      <td>35000</td>\n",
              "      <td>14.27</td>\n",
              "      <td>1</td>\n",
              "      <td>0.55</td>\n",
              "      <td>Y</td>\n",
              "      <td>4</td>\n",
              "    </tr>\n",
              "  </tbody>\n",
              "</table>\n",
              "</div>"
            ],
            "text/plain": [
              "   person_age  ...  cb_person_cred_hist_length\n",
              "0          22  ...                           3\n",
              "1          21  ...                           2\n",
              "2          25  ...                           3\n",
              "3          23  ...                           2\n",
              "4          24  ...                           4\n",
              "\n",
              "[5 rows x 12 columns]"
            ]
          },
          "metadata": {
            "tags": []
          },
          "execution_count": 7
        }
      ]
    },
    {
      "cell_type": "code",
      "metadata": {
        "id": "owtDZGCqfCXJ",
        "colab_type": "code",
        "outputId": "db620eae-1c3b-4123-8149-696d92816b83",
        "colab": {
          "base_uri": "https://localhost:8080/",
          "height": 296
        }
      },
      "source": [
        "# Look at the distribution of loan amounts with a histogram\n",
        "n, bins, patches = plt.hist(x=cr_loan['loan_amnt'], bins='auto', color='blue',alpha=0.7, rwidth=0.85)\n",
        "plt.xlabel(\"Loan Amount\")"
      ],
      "execution_count": 0,
      "outputs": [
        {
          "output_type": "execute_result",
          "data": {
            "text/plain": [
              "Text(0.5, 0, 'Loan Amount')"
            ]
          },
          "metadata": {
            "tags": []
          },
          "execution_count": 9
        },
        {
          "output_type": "display_data",
          "data": {
            "image/png": "[encoded data removed]",
            "text/plain": [
              "<Figure size 432x288 with 1 Axes>"
            ]
          },
          "metadata": {
            "tags": []
          }
        }
      ]
    },
    {
      "cell_type": "code",
      "metadata": {
        "id": "i33nlSHdfWIA",
        "colab_type": "code",
        "outputId": "a201e89c-2fc2-4268-8fd7-694df1e7e5a2",
        "colab": {
          "base_uri": "https://localhost:8080/",
          "height": 296
        }
      },
      "source": [
        "# Plot a scatter plot of income against age\n",
        "plt.scatter(cr_loan['person_income'], cr_loan['person_age'],c='blue', alpha=0.5)\n",
        "plt.xlabel('Personal Income')\n",
        "plt.ylabel('Persone Age')"
      ],
      "execution_count": 0,
      "outputs": [
        {
          "output_type": "execute_result",
          "data": {
            "text/plain": [
              "Text(0, 0.5, 'Persone Age')"
            ]
          },
          "metadata": {
            "tags": []
          },
          "execution_count": 10
        },
        {
          "output_type": "display_data",
          "data": {
            "image/png": "[encoded data removed]",
            "text/plain": [
              "<Figure size 432x288 with 1 Axes>"
            ]
          },
          "metadata": {
            "tags": []
          }
        }
      ]
    },
    {
      "cell_type": "markdown",
      "metadata": {
        "id": "XppcLB38fqdF",
        "colab_type": "text"
      },
      "source": [
        "#### We can see there are few outliers in above data like age 120 and 140"
      ]
    },
    {
      "cell_type": "markdown",
      "metadata": {
        "id": "0r5RzbMegSvo",
        "colab_type": "text"
      },
      "source": [
        "### Crosstab and pivot tables"
      ]
    },
    {
      "cell_type": "code",
      "metadata": {
        "id": "Y1FKZ8a8igcd",
        "colab_type": "code",
        "outputId": "ba8f356f-01a3-4b23-9ce4-fae6b76ccca1",
        "colab": {
          "base_uri": "https://localhost:8080/",
          "height": 266
        }
      },
      "source": [
        "# Create a cross table of the loan intent and loan status\n",
        "loan_intent_status = pd.crosstab(cr_loan[\"loan_intent\"], cr_loan[\"loan_status\"])\n",
        "loan_intent_status"
      ],
      "execution_count": 0,
      "outputs": [
        {
          "output_type": "execute_result",
          "data": {
            "text/html": [
              "<div>\n",
              "<style scoped>\n",
              "    .dataframe tbody tr th:only-of-type {\n",
              "        vertical-align: middle;\n",
              "    }\n",
              "\n",
              "    .dataframe tbody tr th {\n",
              "        vertical-align: top;\n",
              "    }\n",
              "\n",
              "    .dataframe thead th {\n",
              "        text-align: right;\n",
              "    }\n",
              "</style>\n",
              "<table border=\"1\" class=\"dataframe\">\n",
              "  <thead>\n",
              "    <tr style=\"text-align: right;\">\n",
              "      <th>loan_status</th>\n",
              "      <th>0</th>\n",
              "      <th>1</th>\n",
              "    </tr>\n",
              "    <tr>\n",
              "      <th>loan_intent</th>\n",
              "      <th></th>\n",
              "      <th></th>\n",
              "    </tr>\n",
              "  </thead>\n",
              "  <tbody>\n",
              "    <tr>\n",
              "      <th>DEBTCONSOLIDATION</th>\n",
              "      <td>3722</td>\n",
              "      <td>1490</td>\n",
              "    </tr>\n",
              "    <tr>\n",
              "      <th>EDUCATION</th>\n",
              "      <td>5342</td>\n",
              "      <td>1111</td>\n",
              "    </tr>\n",
              "    <tr>\n",
              "      <th>HOMEIMPROVEMENT</th>\n",
              "      <td>2664</td>\n",
              "      <td>941</td>\n",
              "    </tr>\n",
              "    <tr>\n",
              "      <th>MEDICAL</th>\n",
              "      <td>4450</td>\n",
              "      <td>1621</td>\n",
              "    </tr>\n",
              "    <tr>\n",
              "      <th>PERSONAL</th>\n",
              "      <td>4423</td>\n",
              "      <td>1098</td>\n",
              "    </tr>\n",
              "    <tr>\n",
              "      <th>VENTURE</th>\n",
              "      <td>4872</td>\n",
              "      <td>847</td>\n",
              "    </tr>\n",
              "  </tbody>\n",
              "</table>\n",
              "</div>"
            ],
            "text/plain": [
              "loan_status           0     1\n",
              "loan_intent                  \n",
              "DEBTCONSOLIDATION  3722  1490\n",
              "EDUCATION          5342  1111\n",
              "HOMEIMPROVEMENT    2664   941\n",
              "MEDICAL            4450  1621\n",
              "PERSONAL           4423  1098\n",
              "VENTURE            4872   847"
            ]
          },
          "metadata": {
            "tags": []
          },
          "execution_count": 33
        }
      ]
    },
    {
      "cell_type": "code",
      "metadata": {
        "id": "LmtVe9qojKGe",
        "colab_type": "code",
        "outputId": "0a788d6f-4512-4702-9840-5cda0b6da4d9",
        "colab": {
          "base_uri": "https://localhost:8080/",
          "height": 68
        }
      },
      "source": [
        "loan_intent_status"
      ],
      "execution_count": 0,
      "outputs": [
        {
          "output_type": "execute_result",
          "data": {
            "text/plain": [
              "Index(['DEBTCONSOLIDATION', 'EDUCATION', 'HOMEIMPROVEMENT', 'MEDICAL',\n",
              "       'PERSONAL', 'VENTURE', 'All'],\n",
              "      dtype='object', name='loan_intent')"
            ]
          },
          "metadata": {
            "tags": []
          },
          "execution_count": 30
        }
      ]
    },
    {
      "cell_type": "code",
      "metadata": {
        "id": "WdZORyQLt0TP",
        "colab_type": "code",
        "outputId": "478da6ae-a38a-4742-cb55-efcb2854d1cd",
        "colab": {
          "base_uri": "https://localhost:8080/",
          "height": 380
        }
      },
      "source": [
        "loan_intent_status.plot.bar(stacked=True)\n",
        "plt.legend(title='mark')\n",
        "\n",
        "plt.show()"
      ],
      "execution_count": 0,
      "outputs": [
        {
          "output_type": "display_data",
          "data": {
            "image/png": "[encoded data removed]",
            "text/plain": [
              "<Figure size 432x288 with 1 Axes>"
            ]
          },
          "metadata": {
            "tags": []
          }
        }
      ]
    },
    {
      "cell_type": "code",
      "metadata": {
        "id": "BYA8kTA6vFg7",
        "colab_type": "code",
        "outputId": "980c275b-7d99-4397-c1cf-0da8a02424cd",
        "colab": {
          "base_uri": "https://localhost:8080/",
          "height": 855
        }
      },
      "source": [
        "#crosstab\n",
        "ax= pd.crosstab(cr_loan[\"loan_intent\"], cr_loan[\"loan_status\"]).apply(lambda r: r/r.sum()*100, axis=1)\n",
        "ax_1 = ax.plot.bar(figsize=(10,10),stacked=True, rot=0)\n",
        "display(ax)\n",
        "\n",
        "plt.legend(loc='upper center', bbox_to_anchor=(0.1, 1.0),title=\"Subject\",)\n",
        "\n",
        "plt.xlabel('Name')\n",
        "plt.ylabel('Percent Distribution')\n",
        "\n",
        "for rec in ax_1.patches:\n",
        "    height = rec.get_height()\n",
        "    ax_1.text(rec.get_x() + rec.get_width() / 2, rec.get_y() + height / 2, \"{:.0f}%\".format(height),\n",
        "           ha = 'center', va='bottom')\n",
        "\n",
        "\n",
        "plt.show()"
      ],
      "execution_count": 0,
      "outputs": [
        {
          "output_type": "display_data",
          "data": {
            "text/html": [
              "<div>\n",
              "<style scoped>\n",
              "    .dataframe tbody tr th:only-of-type {\n",
              "        vertical-align: middle;\n",
              "    }\n",
              "\n",
              "    .dataframe tbody tr th {\n",
              "        vertical-align: top;\n",
              "    }\n",
              "\n",
              "    .dataframe thead th {\n",
              "        text-align: right;\n",
              "    }\n",
              "</style>\n",
              "<table border=\"1\" class=\"dataframe\">\n",
              "  <thead>\n",
              "    <tr style=\"text-align: right;\">\n",
              "      <th>loan_status</th>\n",
              "      <th>0</th>\n",
              "      <th>1</th>\n",
              "    </tr>\n",
              "    <tr>\n",
              "      <th>loan_intent</th>\n",
              "      <th></th>\n",
              "      <th></th>\n",
              "    </tr>\n",
              "  </thead>\n",
              "  <tbody>\n",
              "    <tr>\n",
              "      <th>DEBTCONSOLIDATION</th>\n",
              "      <td>71.412126</td>\n",
              "      <td>28.587874</td>\n",
              "    </tr>\n",
              "    <tr>\n",
              "      <th>EDUCATION</th>\n",
              "      <td>82.783202</td>\n",
              "      <td>17.216798</td>\n",
              "    </tr>\n",
              "    <tr>\n",
              "      <th>HOMEIMPROVEMENT</th>\n",
              "      <td>73.897365</td>\n",
              "      <td>26.102635</td>\n",
              "    </tr>\n",
              "    <tr>\n",
              "      <th>MEDICAL</th>\n",
              "      <td>73.299292</td>\n",
              "      <td>26.700708</td>\n",
              "    </tr>\n",
              "    <tr>\n",
              "      <th>PERSONAL</th>\n",
              "      <td>80.112298</td>\n",
              "      <td>19.887702</td>\n",
              "    </tr>\n",
              "    <tr>\n",
              "      <th>VENTURE</th>\n",
              "      <td>85.189718</td>\n",
              "      <td>14.810282</td>\n",
              "    </tr>\n",
              "  </tbody>\n",
              "</table>\n",
              "</div>"
            ],
            "text/plain": [
              "loan_status                0          1\n",
              "loan_intent                            \n",
              "DEBTCONSOLIDATION  71.412126  28.587874\n",
              "EDUCATION          82.783202  17.216798\n",
              "HOMEIMPROVEMENT    73.897365  26.102635\n",
              "MEDICAL            73.299292  26.700708\n",
              "PERSONAL           80.112298  19.887702\n",
              "VENTURE            85.189718  14.810282"
            ]
          },
          "metadata": {
            "tags": []
          }
        },
        {
          "output_type": "display_data",
          "data": {
            "image/png": "[encoded data removed]",
            "text/plain": [
              "<Figure size 720x720 with 1 Axes>"
            ]
          },
          "metadata": {
            "tags": []
          }
        }
      ]
    },
    {
      "cell_type": "code",
      "metadata": {
        "id": "Mw4wyzUaiVZg",
        "colab_type": "code",
        "colab": {}
      },
      "source": [
        ""
      ],
      "execution_count": 0,
      "outputs": []
    },
    {
      "cell_type": "code",
      "metadata": {
        "id": "9Hu9oEqXgeFX",
        "colab_type": "code",
        "outputId": "fb1651e9-9d37-48fe-9c51-ec1dc7496fb3",
        "colab": {
          "base_uri": "https://localhost:8080/",
          "height": 282
        }
      },
      "source": [
        "plt.bar(cr_loan.loan_status.value_counts().index,cr_loan.loan_status.value_counts())"
      ],
      "execution_count": 0,
      "outputs": [
        {
          "output_type": "execute_result",
          "data": {
            "text/plain": [
              "<BarContainer object of 2 artists>"
            ]
          },
          "metadata": {
            "tags": []
          },
          "execution_count": 17
        },
        {
          "output_type": "display_data",
          "data": {
            "image/png": "[encoded data removed]",
            "text/plain": [
              "<Figure size 432x288 with 1 Axes>"
            ]
          },
          "metadata": {
            "tags": []
          }
        }
      ]
    },
    {
      "cell_type": "code",
      "metadata": {
        "id": "GI1MaW0Lhdwq",
        "colab_type": "code",
        "outputId": "4d2d443c-9233-4908-94a1-7219195cb63d",
        "colab": {
          "base_uri": "https://localhost:8080/",
          "height": 68
        }
      },
      "source": [
        "cr_loan.loan_status.value_counts()"
      ],
      "execution_count": 0,
      "outputs": [
        {
          "output_type": "execute_result",
          "data": {
            "text/plain": [
              "0    25473\n",
              "1     7108\n",
              "Name: loan_status, dtype: int64"
            ]
          },
          "metadata": {
            "tags": []
          },
          "execution_count": 18
        }
      ]
    },
    {
      "cell_type": "code",
      "metadata": {
        "id": "b_qsFq-4g_In",
        "colab_type": "code",
        "outputId": "48c3f3e8-2e15-40bb-d52d-1952fe37b790",
        "colab": {
          "base_uri": "https://localhost:8080/",
          "height": 34
        }
      },
      "source": [
        "print(\"Percent of default loans: \",round(cr_loan.loan_status.value_counts()[1]/np.sum(cr_loan.loan_status.value_counts())*100,2),\"%\") "
      ],
      "execution_count": 0,
      "outputs": [
        {
          "output_type": "stream",
          "text": [
            "Percent of default loans:  21.82 %\n"
          ],
          "name": "stdout"
        }
      ]
    },
    {
      "cell_type": "code",
      "metadata": {
        "id": "J27lfn48hjMO",
        "colab_type": "code",
        "colab": {
          "base_uri": "https://localhost:8080/",
          "height": 90
        },
        "outputId": "8c356c42-68fa-4c17-c069-e396cd125474"
      },
      "source": [
        "# Create the cross table for loan status, home ownership, and the max employment length\n",
        "print(pd.crosstab(cr_loan.loan_status,cr_loan.person_home_ownership,\n",
        "        values=cr_loan.person_emp_length, aggfunc=max))"
      ],
      "execution_count": 37,
      "outputs": [
        {
          "output_type": "stream",
          "text": [
            "person_home_ownership  MORTGAGE  OTHER   OWN   RENT\n",
            "loan_status                                        \n",
            "0                         123.0   24.0  31.0   41.0\n",
            "1                          34.0   11.0  17.0  123.0\n"
          ],
          "name": "stdout"
        }
      ]
    },
    {
      "cell_type": "code",
      "metadata": {
        "id": "d3QZxeQlwtj9",
        "colab_type": "code",
        "colab": {
          "base_uri": "https://localhost:8080/",
          "height": 90
        },
        "outputId": "02e87169-a68c-408c-b6ea-df45d9d43e7c"
      },
      "source": [
        "# Create the cross table for loan status, home ownership, and the max employment length\n",
        "print(pd.crosstab(cr_loan.loan_status,cr_loan.person_home_ownership,\n",
        "        values=cr_loan.person_emp_length, aggfunc=np.mean))"
      ],
      "execution_count": 40,
      "outputs": [
        {
          "output_type": "stream",
          "text": [
            "person_home_ownership  MORTGAGE     OTHER       OWN      RENT\n",
            "loan_status                                                  \n",
            "0                      5.902120  3.945946  5.316986  3.939440\n",
            "1                      5.755828  3.090909  3.161677  3.649119\n"
          ],
          "name": "stdout"
        }
      ]
    },
    {
      "cell_type": "code",
      "metadata": {
        "id": "4ysYa3zAxPiN",
        "colab_type": "code",
        "colab": {
          "base_uri": "https://localhost:8080/",
          "height": 90
        },
        "outputId": "584744f1-dc5b-4f83-dce4-c7efd1580066"
      },
      "source": [
        "# Create the cross table for loan status, home ownership, and the max employment length\n",
        "print(pd.crosstab(cr_loan.loan_status,cr_loan.person_home_ownership,\n",
        "        values=cr_loan.person_emp_length, aggfunc=np.median))"
      ],
      "execution_count": 41,
      "outputs": [
        {
          "output_type": "stream",
          "text": [
            "person_home_ownership  MORTGAGE  OTHER  OWN  RENT\n",
            "loan_status                                      \n",
            "0                           5.0    3.0  5.0   3.0\n",
            "1                           5.0    2.0  2.0   3.0\n"
          ],
          "name": "stdout"
        }
      ]
    },
    {
      "cell_type": "markdown",
      "metadata": {
        "id": "NGEiGgOs8YZZ",
        "colab_type": "text"
      },
      "source": [
        "### It may not be possible for a person to have an employment length of less than 0 or greater than 60."
      ]
    },
    {
      "cell_type": "code",
      "metadata": {
        "id": "mCEUKTIX8QyO",
        "colab_type": "code",
        "colab": {}
      },
      "source": [
        "# Create an array of indices where employment length is greater than 60\n",
        "indices = cr_loan[cr_loan['person_emp_length'] > 60].index\n",
        "\n",
        "# Drop the records from the data based on the indices and create a new dataframe\n",
        "cr_loan_new = cr_loan.drop(indices)"
      ],
      "execution_count": 0,
      "outputs": []
    },
    {
      "cell_type": "code",
      "metadata": {
        "id": "DQSYlZOHwXcT",
        "colab_type": "code",
        "colab": {
          "base_uri": "https://localhost:8080/",
          "height": 168
        },
        "outputId": "63a9a9a8-62d2-42de-82a3-d8fc949789d2"
      },
      "source": [
        "# Create the cross table from earlier and include minimum employment length\n",
        "pd.crosstab(cr_loan_new.loan_status,cr_loan_new.person_home_ownership,\n",
        "            values=cr_loan_new['person_emp_length'], aggfunc=['min','max'])"
      ],
      "execution_count": 44,
      "outputs": [
        {
          "output_type": "execute_result",
          "data": {
            "text/html": [
              "<div>\n",
              "<style scoped>\n",
              "    .dataframe tbody tr th:only-of-type {\n",
              "        vertical-align: middle;\n",
              "    }\n",
              "\n",
              "    .dataframe tbody tr th {\n",
              "        vertical-align: top;\n",
              "    }\n",
              "\n",
              "    .dataframe thead tr th {\n",
              "        text-align: left;\n",
              "    }\n",
              "\n",
              "    .dataframe thead tr:last-of-type th {\n",
              "        text-align: right;\n",
              "    }\n",
              "</style>\n",
              "<table border=\"1\" class=\"dataframe\">\n",
              "  <thead>\n",
              "    <tr>\n",
              "      <th></th>\n",
              "      <th colspan=\"4\" halign=\"left\">min</th>\n",
              "      <th colspan=\"4\" halign=\"left\">max</th>\n",
              "    </tr>\n",
              "    <tr>\n",
              "      <th>person_home_ownership</th>\n",
              "      <th>MORTGAGE</th>\n",
              "      <th>OTHER</th>\n",
              "      <th>OWN</th>\n",
              "      <th>RENT</th>\n",
              "      <th>MORTGAGE</th>\n",
              "      <th>OTHER</th>\n",
              "      <th>OWN</th>\n",
              "      <th>RENT</th>\n",
              "    </tr>\n",
              "    <tr>\n",
              "      <th>loan_status</th>\n",
              "      <th></th>\n",
              "      <th></th>\n",
              "      <th></th>\n",
              "      <th></th>\n",
              "      <th></th>\n",
              "      <th></th>\n",
              "      <th></th>\n",
              "      <th></th>\n",
              "    </tr>\n",
              "  </thead>\n",
              "  <tbody>\n",
              "    <tr>\n",
              "      <th>0</th>\n",
              "      <td>0.0</td>\n",
              "      <td>0.0</td>\n",
              "      <td>0.0</td>\n",
              "      <td>0.0</td>\n",
              "      <td>38.0</td>\n",
              "      <td>24.0</td>\n",
              "      <td>31.0</td>\n",
              "      <td>41.0</td>\n",
              "    </tr>\n",
              "    <tr>\n",
              "      <th>1</th>\n",
              "      <td>0.0</td>\n",
              "      <td>0.0</td>\n",
              "      <td>0.0</td>\n",
              "      <td>0.0</td>\n",
              "      <td>34.0</td>\n",
              "      <td>11.0</td>\n",
              "      <td>17.0</td>\n",
              "      <td>27.0</td>\n",
              "    </tr>\n",
              "  </tbody>\n",
              "</table>\n",
              "</div>"
            ],
            "text/plain": [
              "                           min                      max                  \n",
              "person_home_ownership MORTGAGE OTHER  OWN RENT MORTGAGE OTHER   OWN  RENT\n",
              "loan_status                                                              \n",
              "0                          0.0   0.0  0.0  0.0     38.0  24.0  31.0  41.0\n",
              "1                          0.0   0.0  0.0  0.0     34.0  11.0  17.0  27.0"
            ]
          },
          "metadata": {
            "tags": []
          },
          "execution_count": 44
        }
      ]
    },
    {
      "cell_type": "code",
      "metadata": {
        "id": "WsZWMjJ99Wib",
        "colab_type": "code",
        "colab": {
          "base_uri": "https://localhost:8080/",
          "height": 279
        },
        "outputId": "510086e7-4cc4-40a4-b31a-59624059e178"
      },
      "source": [
        "# Create a scatter plot of age and interest rate\n",
        "colors = [\"blue\",\"red\"]\n",
        "plt.scatter(cr_loan['person_age'], cr_loan['loan_int_rate'],\n",
        "            c = cr_loan['loan_status'],\n",
        "            cmap = matplotlib.colors.ListedColormap(colors),\n",
        "            alpha=0.5)\n",
        "plt.xlabel(\"Person Age\")\n",
        "plt.ylabel(\"Loan Interest Rate\")\n",
        "plt.show()"
      ],
      "execution_count": 48,
      "outputs": [
        {
          "output_type": "display_data",
          "data": {
            "image/png": "[encoded data removed]",
            "text/plain": [
              "<Figure size 432x288 with 1 Axes>"
            ]
          },
          "metadata": {
            "tags": []
          }
        }
      ]
    },
    {
      "cell_type": "markdown",
      "metadata": {
        "id": "s4S7guF59b-r",
        "colab_type": "text"
      },
      "source": [
        "### Removing outliers from above seen data\n"
      ]
    },
    {
      "cell_type": "code",
      "metadata": {
        "id": "A5Gj5Z1r8ojO",
        "colab_type": "code",
        "colab": {
          "base_uri": "https://localhost:8080/",
          "height": 279
        },
        "outputId": "30288188-23ab-414e-a31d-70aa1ea90918"
      },
      "source": [
        "# Use Pandas to drop the record from the data frame and create a new one\n",
        "cr_loan_new = cr_loan.drop(cr_loan[cr_loan['person_age'] > 100].index)\n",
        "\n",
        "# Create a scatter plot of age and interest rate\n",
        "colors = [\"blue\",\"red\"]\n",
        "plt.scatter(cr_loan_new['person_age'], cr_loan_new['loan_int_rate'],\n",
        "            c = cr_loan_new['loan_status'],\n",
        "            cmap = matplotlib.colors.ListedColormap(colors),\n",
        "            alpha=0.5)\n",
        "plt.xlabel(\"Person Age\")\n",
        "plt.ylabel(\"Loan Interest Rate\")\n",
        "plt.show()"
      ],
      "execution_count": 47,
      "outputs": [
        {
          "output_type": "display_data",
          "data": {
            "image/png": "[encoded data removed]",
            "text/plain": [
              "<Figure size 432x288 with 1 Axes>"
            ]
          },
          "metadata": {
            "tags": []
          }
        }
      ]
    },
    {
      "cell_type": "markdown",
      "metadata": {
        "id": "pGTgTn4g99_p",
        "colab_type": "text"
      },
      "source": [
        "### Replacing missing credit data"
      ]
    },
    {
      "cell_type": "code",
      "metadata": {
        "id": "f6vqKsfS-Kcn",
        "colab_type": "code",
        "colab": {
          "base_uri": "https://localhost:8080/",
          "height": 35
        },
        "outputId": "31549405-ee68-4441-9979-7121d0d3520d"
      },
      "source": [
        "# Print a null value column array\n",
        "cr_loan.columns[cr_loan.isnull().any()]"
      ],
      "execution_count": 55,
      "outputs": [
        {
          "output_type": "execute_result",
          "data": {
            "text/plain": [
              "Index(['person_emp_length', 'loan_int_rate'], dtype='object')"
            ]
          },
          "metadata": {
            "tags": []
          },
          "execution_count": 55
        }
      ]
    },
    {
      "cell_type": "code",
      "metadata": {
        "id": "xAFanPyJ-PCQ",
        "colab_type": "code",
        "colab": {
          "base_uri": "https://localhost:8080/",
          "height": 218
        },
        "outputId": "d932c6f1-e6ba-4129-8b74-96b936fe74c5"
      },
      "source": [
        "# Print the top five rows with nulls for employment length\n",
        "cr_loan[cr_loan[\"person_emp_length\"].isnull()].head()"
      ],
      "execution_count": 56,
      "outputs": [
        {
          "output_type": "execute_result",
          "data": {
            "text/html": [
              "<div>\n",
              "<style scoped>\n",
              "    .dataframe tbody tr th:only-of-type {\n",
              "        vertical-align: middle;\n",
              "    }\n",
              "\n",
              "    .dataframe tbody tr th {\n",
              "        vertical-align: top;\n",
              "    }\n",
              "\n",
              "    .dataframe thead th {\n",
              "        text-align: right;\n",
              "    }\n",
              "</style>\n",
              "<table border=\"1\" class=\"dataframe\">\n",
              "  <thead>\n",
              "    <tr style=\"text-align: right;\">\n",
              "      <th></th>\n",
              "      <th>person_age</th>\n",
              "      <th>person_income</th>\n",
              "      <th>person_home_ownership</th>\n",
              "      <th>person_emp_length</th>\n",
              "      <th>loan_intent</th>\n",
              "      <th>loan_grade</th>\n",
              "      <th>loan_amnt</th>\n",
              "      <th>loan_int_rate</th>\n",
              "      <th>loan_status</th>\n",
              "      <th>loan_percent_income</th>\n",
              "      <th>cb_person_default_on_file</th>\n",
              "      <th>cb_person_cred_hist_length</th>\n",
              "    </tr>\n",
              "  </thead>\n",
              "  <tbody>\n",
              "    <tr>\n",
              "      <th>105</th>\n",
              "      <td>22</td>\n",
              "      <td>12600</td>\n",
              "      <td>MORTGAGE</td>\n",
              "      <td>NaN</td>\n",
              "      <td>PERSONAL</td>\n",
              "      <td>A</td>\n",
              "      <td>2000</td>\n",
              "      <td>5.42</td>\n",
              "      <td>1</td>\n",
              "      <td>0.16</td>\n",
              "      <td>N</td>\n",
              "      <td>4</td>\n",
              "    </tr>\n",
              "    <tr>\n",
              "      <th>222</th>\n",
              "      <td>24</td>\n",
              "      <td>185000</td>\n",
              "      <td>MORTGAGE</td>\n",
              "      <td>NaN</td>\n",
              "      <td>EDUCATION</td>\n",
              "      <td>B</td>\n",
              "      <td>35000</td>\n",
              "      <td>12.42</td>\n",
              "      <td>0</td>\n",
              "      <td>0.19</td>\n",
              "      <td>N</td>\n",
              "      <td>2</td>\n",
              "    </tr>\n",
              "    <tr>\n",
              "      <th>379</th>\n",
              "      <td>24</td>\n",
              "      <td>16800</td>\n",
              "      <td>MORTGAGE</td>\n",
              "      <td>NaN</td>\n",
              "      <td>DEBTCONSOLIDATION</td>\n",
              "      <td>A</td>\n",
              "      <td>3900</td>\n",
              "      <td>NaN</td>\n",
              "      <td>1</td>\n",
              "      <td>0.23</td>\n",
              "      <td>N</td>\n",
              "      <td>3</td>\n",
              "    </tr>\n",
              "    <tr>\n",
              "      <th>407</th>\n",
              "      <td>25</td>\n",
              "      <td>52000</td>\n",
              "      <td>RENT</td>\n",
              "      <td>NaN</td>\n",
              "      <td>PERSONAL</td>\n",
              "      <td>B</td>\n",
              "      <td>24000</td>\n",
              "      <td>10.74</td>\n",
              "      <td>1</td>\n",
              "      <td>0.46</td>\n",
              "      <td>N</td>\n",
              "      <td>2</td>\n",
              "    </tr>\n",
              "    <tr>\n",
              "      <th>408</th>\n",
              "      <td>22</td>\n",
              "      <td>17352</td>\n",
              "      <td>MORTGAGE</td>\n",
              "      <td>NaN</td>\n",
              "      <td>EDUCATION</td>\n",
              "      <td>C</td>\n",
              "      <td>2250</td>\n",
              "      <td>15.27</td>\n",
              "      <td>0</td>\n",
              "      <td>0.13</td>\n",
              "      <td>Y</td>\n",
              "      <td>3</td>\n",
              "    </tr>\n",
              "  </tbody>\n",
              "</table>\n",
              "</div>"
            ],
            "text/plain": [
              "     person_age  ...  cb_person_cred_hist_length\n",
              "105          22  ...                           4\n",
              "222          24  ...                           2\n",
              "379          24  ...                           3\n",
              "407          25  ...                           2\n",
              "408          22  ...                           3\n",
              "\n",
              "[5 rows x 12 columns]"
            ]
          },
          "metadata": {
            "tags": []
          },
          "execution_count": 56
        }
      ]
    },
    {
      "cell_type": "code",
      "metadata": {
        "id": "YOqvzxr9-Zsh",
        "colab_type": "code",
        "colab": {}
      },
      "source": [
        "# Impute the null values with the median value for all employment lengths\n",
        "cr_loan[\"person_emp_length\"].fillna((cr_loan['person_emp_length'].median()), inplace=True)"
      ],
      "execution_count": 0,
      "outputs": []
    },
    {
      "cell_type": "code",
      "metadata": {
        "id": "2A-lBXgy9El1",
        "colab_type": "code",
        "colab": {
          "base_uri": "https://localhost:8080/",
          "height": 279
        },
        "outputId": "a6e061a3-080e-40e8-9c3d-7d84f76652be"
      },
      "source": [
        "# Create a histogram of employment length\n",
        "n, bins, patches = plt.hist(cr_loan[\"person_emp_length\"], bins='auto', color='blue')\n",
        "plt.xlabel(\"Person Employment Length\")\n",
        "plt.show()"
      ],
      "execution_count": 58,
      "outputs": [
        {
          "output_type": "display_data",
          "data": {
            "image/png": "[encoded data removed]",
            "text/plain": [
              "<Figure size 432x288 with 1 Axes>"
            ]
          },
          "metadata": {
            "tags": []
          }
        }
      ]
    },
    {
      "cell_type": "code",
      "metadata": {
        "id": "e94rrgx19_33",
        "colab_type": "code",
        "colab": {
          "base_uri": "https://localhost:8080/",
          "height": 35
        },
        "outputId": "ab0b91c4-eb2f-42e3-c069-ab7108a9b1aa"
      },
      "source": [
        "# Print the number of nulls\n",
        "print(cr_loan[\"loan_int_rate\"].isnull().sum())\n",
        "\n",
        "# Store the array on indices\n",
        "indices = cr_loan[cr_loan[\"loan_int_rate\"].isnull()].index\n",
        "\n",
        "# Save the new data without missing data\n",
        "cr_loan_clean = cr_loan.drop(indices)"
      ],
      "execution_count": 59,
      "outputs": [
        {
          "output_type": "stream",
          "text": [
            "3116\n"
          ],
          "name": "stdout"
        }
      ]
    },
    {
      "cell_type": "markdown",
      "metadata": {
        "id": "eDTkPuI3AbBw",
        "colab_type": "text"
      },
      "source": [
        "### One hot encoding"
      ]
    },
    {
      "cell_type": "code",
      "metadata": {
        "id": "efWck5Dq_ZQr",
        "colab_type": "code",
        "colab": {
          "base_uri": "https://localhost:8080/",
          "height": 217
        },
        "outputId": "956f4301-b55f-4625-8ff8-dac4d24c3df9"
      },
      "source": [
        "# Create two data sets for numeric and non-numeric data\n",
        "cred_num = cr_loan_clean.select_dtypes(exclude=['object'])\n",
        "cred_str = cr_loan_clean.select_dtypes(include=['object'])\n",
        "\n",
        "# One-hot encode the non-numeric columns\n",
        "cred_str_onehot = pd.get_dummies(cred_str)\n",
        "\n",
        "# Union the one-hot encoded columns to the numeric ones\n",
        "cr_loan_prep = pd.concat([cred_num,cred_str_onehot], axis=1)\n",
        "\n",
        "# Print the columns in the new data set\n",
        "print(cr_loan_prep.columns)"
      ],
      "execution_count": 60,
      "outputs": [
        {
          "output_type": "stream",
          "text": [
            "Index(['person_age', 'person_income', 'person_emp_length', 'loan_amnt',\n",
            "       'loan_int_rate', 'loan_status', 'loan_percent_income',\n",
            "       'cb_person_cred_hist_length', 'person_home_ownership_MORTGAGE',\n",
            "       'person_home_ownership_OTHER', 'person_home_ownership_OWN',\n",
            "       'person_home_ownership_RENT', 'loan_intent_DEBTCONSOLIDATION',\n",
            "       'loan_intent_EDUCATION', 'loan_intent_HOMEIMPROVEMENT',\n",
            "       'loan_intent_MEDICAL', 'loan_intent_PERSONAL', 'loan_intent_VENTURE',\n",
            "       'loan_grade_A', 'loan_grade_B', 'loan_grade_C', 'loan_grade_D',\n",
            "       'loan_grade_E', 'loan_grade_F', 'loan_grade_G',\n",
            "       'cb_person_default_on_file_N', 'cb_person_default_on_file_Y'],\n",
            "      dtype='object')\n"
          ],
          "name": "stdout"
        }
      ]
    },
    {
      "cell_type": "code",
      "metadata": {
        "id": "ouB2t_HmAedI",
        "colab_type": "code",
        "colab": {
          "base_uri": "https://localhost:8080/",
          "height": 218
        },
        "outputId": "732415e1-808a-4910-98d1-c116f1423442"
      },
      "source": [
        "cr_loan_prep.head()"
      ],
      "execution_count": 61,
      "outputs": [
        {
          "output_type": "execute_result",
          "data": {
            "text/html": [
              "<div>\n",
              "<style scoped>\n",
              "    .dataframe tbody tr th:only-of-type {\n",
              "        vertical-align: middle;\n",
              "    }\n",
              "\n",
              "    .dataframe tbody tr th {\n",
              "        vertical-align: top;\n",
              "    }\n",
              "\n",
              "    .dataframe thead th {\n",
              "        text-align: right;\n",
              "    }\n",
              "</style>\n",
              "<table border=\"1\" class=\"dataframe\">\n",
              "  <thead>\n",
              "    <tr style=\"text-align: right;\">\n",
              "      <th></th>\n",
              "      <th>person_age</th>\n",
              "      <th>person_income</th>\n",
              "      <th>person_emp_length</th>\n",
              "      <th>loan_amnt</th>\n",
              "      <th>loan_int_rate</th>\n",
              "      <th>loan_status</th>\n",
              "      <th>loan_percent_income</th>\n",
              "      <th>cb_person_cred_hist_length</th>\n",
              "      <th>person_home_ownership_MORTGAGE</th>\n",
              "      <th>person_home_ownership_OTHER</th>\n",
              "      <th>person_home_ownership_OWN</th>\n",
              "      <th>person_home_ownership_RENT</th>\n",
              "      <th>loan_intent_DEBTCONSOLIDATION</th>\n",
              "      <th>loan_intent_EDUCATION</th>\n",
              "      <th>loan_intent_HOMEIMPROVEMENT</th>\n",
              "      <th>loan_intent_MEDICAL</th>\n",
              "      <th>loan_intent_PERSONAL</th>\n",
              "      <th>loan_intent_VENTURE</th>\n",
              "      <th>loan_grade_A</th>\n",
              "      <th>loan_grade_B</th>\n",
              "      <th>loan_grade_C</th>\n",
              "      <th>loan_grade_D</th>\n",
              "      <th>loan_grade_E</th>\n",
              "      <th>loan_grade_F</th>\n",
              "      <th>loan_grade_G</th>\n",
              "      <th>cb_person_default_on_file_N</th>\n",
              "      <th>cb_person_default_on_file_Y</th>\n",
              "    </tr>\n",
              "  </thead>\n",
              "  <tbody>\n",
              "    <tr>\n",
              "      <th>0</th>\n",
              "      <td>22</td>\n",
              "      <td>59000</td>\n",
              "      <td>123.0</td>\n",
              "      <td>35000</td>\n",
              "      <td>16.02</td>\n",
              "      <td>1</td>\n",
              "      <td>0.59</td>\n",
              "      <td>3</td>\n",
              "      <td>0</td>\n",
              "      <td>0</td>\n",
              "      <td>0</td>\n",
              "      <td>1</td>\n",
              "      <td>0</td>\n",
              "      <td>0</td>\n",
              "      <td>0</td>\n",
              "      <td>0</td>\n",
              "      <td>1</td>\n",
              "      <td>0</td>\n",
              "      <td>0</td>\n",
              "      <td>0</td>\n",
              "      <td>0</td>\n",
              "      <td>1</td>\n",
              "      <td>0</td>\n",
              "      <td>0</td>\n",
              "      <td>0</td>\n",
              "      <td>0</td>\n",
              "      <td>1</td>\n",
              "    </tr>\n",
              "    <tr>\n",
              "      <th>1</th>\n",
              "      <td>21</td>\n",
              "      <td>9600</td>\n",
              "      <td>5.0</td>\n",
              "      <td>1000</td>\n",
              "      <td>11.14</td>\n",
              "      <td>0</td>\n",
              "      <td>0.10</td>\n",
              "      <td>2</td>\n",
              "      <td>0</td>\n",
              "      <td>0</td>\n",
              "      <td>1</td>\n",
              "      <td>0</td>\n",
              "      <td>0</td>\n",
              "      <td>1</td>\n",
              "      <td>0</td>\n",
              "      <td>0</td>\n",
              "      <td>0</td>\n",
              "      <td>0</td>\n",
              "      <td>0</td>\n",
              "      <td>1</td>\n",
              "      <td>0</td>\n",
              "      <td>0</td>\n",
              "      <td>0</td>\n",
              "      <td>0</td>\n",
              "      <td>0</td>\n",
              "      <td>1</td>\n",
              "      <td>0</td>\n",
              "    </tr>\n",
              "    <tr>\n",
              "      <th>2</th>\n",
              "      <td>25</td>\n",
              "      <td>9600</td>\n",
              "      <td>1.0</td>\n",
              "      <td>5500</td>\n",
              "      <td>12.87</td>\n",
              "      <td>1</td>\n",
              "      <td>0.57</td>\n",
              "      <td>3</td>\n",
              "      <td>1</td>\n",
              "      <td>0</td>\n",
              "      <td>0</td>\n",
              "      <td>0</td>\n",
              "      <td>0</td>\n",
              "      <td>0</td>\n",
              "      <td>0</td>\n",
              "      <td>1</td>\n",
              "      <td>0</td>\n",
              "      <td>0</td>\n",
              "      <td>0</td>\n",
              "      <td>0</td>\n",
              "      <td>1</td>\n",
              "      <td>0</td>\n",
              "      <td>0</td>\n",
              "      <td>0</td>\n",
              "      <td>0</td>\n",
              "      <td>1</td>\n",
              "      <td>0</td>\n",
              "    </tr>\n",
              "    <tr>\n",
              "      <th>3</th>\n",
              "      <td>23</td>\n",
              "      <td>65500</td>\n",
              "      <td>4.0</td>\n",
              "      <td>35000</td>\n",
              "      <td>15.23</td>\n",
              "      <td>1</td>\n",
              "      <td>0.53</td>\n",
              "      <td>2</td>\n",
              "      <td>0</td>\n",
              "      <td>0</td>\n",
              "      <td>0</td>\n",
              "      <td>1</td>\n",
              "      <td>0</td>\n",
              "      <td>0</td>\n",
              "      <td>0</td>\n",
              "      <td>1</td>\n",
              "      <td>0</td>\n",
              "      <td>0</td>\n",
              "      <td>0</td>\n",
              "      <td>0</td>\n",
              "      <td>1</td>\n",
              "      <td>0</td>\n",
              "      <td>0</td>\n",
              "      <td>0</td>\n",
              "      <td>0</td>\n",
              "      <td>1</td>\n",
              "      <td>0</td>\n",
              "    </tr>\n",
              "    <tr>\n",
              "      <th>4</th>\n",
              "      <td>24</td>\n",
              "      <td>54400</td>\n",
              "      <td>8.0</td>\n",
              "      <td>35000</td>\n",
              "      <td>14.27</td>\n",
              "      <td>1</td>\n",
              "      <td>0.55</td>\n",
              "      <td>4</td>\n",
              "      <td>0</td>\n",
              "      <td>0</td>\n",
              "      <td>0</td>\n",
              "      <td>1</td>\n",
              "      <td>0</td>\n",
              "      <td>0</td>\n",
              "      <td>0</td>\n",
              "      <td>1</td>\n",
              "      <td>0</td>\n",
              "      <td>0</td>\n",
              "      <td>0</td>\n",
              "      <td>0</td>\n",
              "      <td>1</td>\n",
              "      <td>0</td>\n",
              "      <td>0</td>\n",
              "      <td>0</td>\n",
              "      <td>0</td>\n",
              "      <td>0</td>\n",
              "      <td>1</td>\n",
              "    </tr>\n",
              "  </tbody>\n",
              "</table>\n",
              "</div>"
            ],
            "text/plain": [
              "   person_age  ...  cb_person_default_on_file_Y\n",
              "0          22  ...                            1\n",
              "1          21  ...                            0\n",
              "2          25  ...                            0\n",
              "3          23  ...                            0\n",
              "4          24  ...                            1\n",
              "\n",
              "[5 rows x 27 columns]"
            ]
          },
          "metadata": {
            "tags": []
          },
          "execution_count": 61
        }
      ]
    },
    {
      "cell_type": "code",
      "metadata": {
        "id": "B9roaCuQA19S",
        "colab_type": "code",
        "colab": {}
      },
      "source": [
        "# Create the X and y data sets\n",
        "X = cr_loan_prep.drop(\"loan_status\",axis=1)\n",
        "y = cr_loan_clean[[\"loan_status\"]]\n",
        "# Use test_train_split to create the training and test sets\n",
        "X_train, X_test, y_train, y_test = train_test_split(X, y, test_size=.4, random_state=123)"
      ],
      "execution_count": 0,
      "outputs": []
    },
    {
      "cell_type": "markdown",
      "metadata": {
        "id": "BGlxPi9iClau",
        "colab_type": "text"
      },
      "source": [
        "### Predicting probability of default"
      ]
    },
    {
      "cell_type": "code",
      "metadata": {
        "id": "T7xLAYRuAjLS",
        "colab_type": "code",
        "colab": {
          "base_uri": "https://localhost:8080/",
          "height": 126
        },
        "outputId": "8451432b-15bd-4683-8c84-c0360088a04a"
      },
      "source": [
        "# Train the logistic regression model on the training data\n",
        "clf_logistic = LogisticRegression(solver='lbfgs').fit(X_train, np.ravel(y_train))\n",
        "\n",
        "# Create predictions of probability for loan status using test data\n",
        "preds = clf_logistic.predict_proba(X_test)\n",
        "\n",
        "# Create dataframes of first five predictions, and first five true labels\n",
        "preds_df = pd.DataFrame(preds[:,1][0:5], columns = ['prob_default'])\n",
        "true_df = y_test.head()\n",
        "\n",
        "# Concatenate and print the two data frames for comparison\n",
        "print(pd.concat([true_df.reset_index(drop = True), preds_df], axis = 1))"
      ],
      "execution_count": 69,
      "outputs": [
        {
          "output_type": "stream",
          "text": [
            "   loan_status  prob_default\n",
            "0            0      0.129805\n",
            "1            0      0.243161\n",
            "2            0      0.100325\n",
            "3            0      0.252148\n",
            "4            0      0.377654\n"
          ],
          "name": "stdout"
        }
      ]
    },
    {
      "cell_type": "markdown",
      "metadata": {
        "id": "MmmczFKGCf_w",
        "colab_type": "text"
      },
      "source": [
        "### Default classification reporting\n"
      ]
    },
    {
      "cell_type": "code",
      "metadata": {
        "id": "eqVvXWqlAqYi",
        "colab_type": "code",
        "colab": {
          "base_uri": "https://localhost:8080/",
          "height": 235
        },
        "outputId": "3bc94210-5223-4bde-871c-34253ade9faf"
      },
      "source": [
        "# Create a dataframe for the probabilities of default\n",
        "preds_df = pd.DataFrame(preds[:,1], columns = ['prob_default'])\n",
        "\n",
        "# Reassign loan status based on the threshold\n",
        "preds_df[\"loan_status\"] = preds_df[\"prob_default\"].apply(lambda x: 1 if x > 0.50 else 0)\n",
        "\n",
        "# Print the row counts for each loan status\n",
        "print(preds_df[\"loan_status\"].value_counts())\n",
        "\n",
        "\n",
        "# Print the classification report\n",
        "target_names = ['Non-Default', 'Default']\n",
        "print(classification_report(y_test, preds_df[\"loan_status\"], target_names=target_names))"
      ],
      "execution_count": 72,
      "outputs": [
        {
          "output_type": "stream",
          "text": [
            "0    11219\n",
            "1      567\n",
            "Name: loan_status, dtype: int64\n",
            "              precision    recall  f1-score   support\n",
            "\n",
            " Non-Default       0.81      0.98      0.89      9194\n",
            "     Default       0.73      0.16      0.26      2592\n",
            "\n",
            "    accuracy                           0.80     11786\n",
            "   macro avg       0.77      0.57      0.57     11786\n",
            "weighted avg       0.79      0.80      0.75     11786\n",
            "\n"
          ],
          "name": "stdout"
        }
      ]
    },
    {
      "cell_type": "code",
      "metadata": {
        "id": "6rMWZA3MDD7n",
        "colab_type": "code",
        "colab": {
          "base_uri": "https://localhost:8080/",
          "height": 90
        },
        "outputId": "5c32da07-98f6-4842-8570-9548fe8e4f1f"
      },
      "source": [
        "# Import function\n",
        "from sklearn.metrics import precision_recall_fscore_support\n",
        "# Select all non-averaged values from the report\n",
        "precision_recall_fscore_support(y_test,preds_df[\"loan_status\"])"
      ],
      "execution_count": 75,
      "outputs": [
        {
          "output_type": "execute_result",
          "data": {
            "text/plain": [
              "(array([0.80577592, 0.72839506]),\n",
              " array([0.98324995, 0.15933642]),\n",
              " array([0.88571009, 0.26147515]),\n",
              " array([9194, 2592]))"
            ]
          },
          "metadata": {
            "tags": []
          },
          "execution_count": 75
        }
      ]
    },
    {
      "cell_type": "markdown",
      "metadata": {
        "id": "M2IWVZiaEeNU",
        "colab_type": "text"
      },
      "source": [
        "### Visually scoring credit models"
      ]
    },
    {
      "cell_type": "code",
      "metadata": {
        "id": "-WAqCYcyDQrn",
        "colab_type": "code",
        "colab": {
          "base_uri": "https://localhost:8080/",
          "height": 315
        },
        "outputId": "c48e8bdc-89ef-46aa-dcf3-f81324475c5a"
      },
      "source": [
        "# Create predictions and store them in a variable\n",
        "preds = clf_logistic.predict_proba(X_test)\n",
        "\n",
        "# Print the accuracy score the model\n",
        "print(\"Accuracy of model\",clf_logistic.score(X_test, y_test))\n",
        "\n",
        "# Plot the ROC curve of the probabilities of default\n",
        "prob_default = preds[:, 1]\n",
        "fallout, sensitivity, thresholds = roc_curve(y_test, prob_default)\n",
        "plt.plot(fallout, sensitivity, color = 'darkorange')\n",
        "plt.plot([0, 1], [0, 1], linestyle='--')\n",
        "plt.xlabel(\"False Positive Rate(FPR)\")\n",
        "plt.ylabel(\"True Positive Rate(TPR)\")\n",
        "plt.show()\n",
        "\n",
        "# Compute the AUC and store it in a variable\n",
        "auc = roc_auc_score(y_test, prob_default)\n",
        "print(\"AUC of model is :\",auc)"
      ],
      "execution_count": 80,
      "outputs": [
        {
          "output_type": "stream",
          "text": [
            "Accuracy of model 0.8020532835567623\n"
          ],
          "name": "stdout"
        },
        {
          "output_type": "display_data",
          "data": {
            "image/png": "[encoded data removed]",
            "text/plain": [
              "<Figure size 432x288 with 1 Axes>"
            ]
          },
          "metadata": {
            "tags": []
          }
        },
        {
          "output_type": "stream",
          "text": [
            "AUC of model is : 0.7568318173151034\n"
          ],
          "name": "stdout"
        }
      ]
    },
    {
      "cell_type": "markdown",
      "metadata": {
        "id": "XSNMjEaRFEDe",
        "colab_type": "text"
      },
      "source": [
        "#### The accuracy for this model is about 80% and the AUC score is 76%. Notice that what the ROC chart shows us is the tradeoff between all values of our false positive rate (fallout) and true positive rate (sensitivity)."
      ]
    },
    {
      "cell_type": "markdown",
      "metadata": {
        "id": "wZ71Om_wFn4E",
        "colab_type": "text"
      },
      "source": [
        "## Confusion Matrix\n",
        "\n",
        "![img](https://assets.datacamp.com/production/repositories/4876/datasets/01ce16bcd7a7a76c1fa0cb6c0ef22647845419a5/3_9_conf_ex2.PNG)"
      ]
    },
    {
      "cell_type": "code",
      "metadata": {
        "id": "EIvPQ4c7Fnpj",
        "colab_type": "code",
        "colab": {
          "base_uri": "https://localhost:8080/",
          "height": 54
        },
        "outputId": "c9bfdb5c-41a7-49ce-a310-e3d2a4e83072"
      },
      "source": [
        "# Set the threshold for defaults to 0.4\n",
        "preds_df[\"loan_status\"] = preds_df[\"prob_default\"].apply(lambda x: 1 if x > 0.4 else 0)\n",
        "\n",
        "# Print the confusion matrix\n",
        "print(confusion_matrix(y_test,preds_df[\"loan_status\"]))"
      ],
      "execution_count": 82,
      "outputs": [
        {
          "output_type": "stream",
          "text": [
            "[[8489  705]\n",
            " [1428 1164]]\n"
          ],
          "name": "stdout"
        }
      ]
    },
    {
      "cell_type": "code",
      "metadata": {
        "id": "odFGmv-2IkED",
        "colab_type": "code",
        "colab": {}
      },
      "source": [
        "avg_loan_amnt = np.mean(cr_loan_prep[\"loan_amnt\"])"
      ],
      "execution_count": 0,
      "outputs": []
    },
    {
      "cell_type": "code",
      "metadata": {
        "id": "ulCuQjXGHAS7",
        "colab_type": "code",
        "colab": {
          "base_uri": "https://localhost:8080/",
          "height": 35
        },
        "outputId": "f0f64d45-9f7e-40c2-aabb-d912ec143b7a"
      },
      "source": [
        "# Reassign the values of loan status based on the new threshold\n",
        "preds_df[\"loan_status\"] = preds_df[\"prob_default\"].apply(lambda x: 1 if x > 0.4 else 0)\n",
        "\n",
        "# Store the number of loan defaults from the prediction data\n",
        "num_defaults = preds_df[\"loan_status\"].value_counts()[1]\n",
        "\n",
        "# Store the default recall from the classification report\n",
        "default_recall = precision_recall_fscore_support(y_test,preds_df[\"loan_status\"])[1][1]\n",
        "\n",
        "# Calculate the estimated impact of the new default recall rate\n",
        "print(num_defaults * avg_loan_amnt * (1 - default_recall))"
      ],
      "execution_count": 88,
      "outputs": [
        {
          "output_type": "stream",
          "text": [
            "9869225.157201577\n"
          ],
          "name": "stdout"
        }
      ]
    },
    {
      "cell_type": "markdown",
      "metadata": {
        "id": "XnT-3bOqHmJg",
        "colab_type": "text"
      },
      "source": [
        "By our estimates, this loss would be around $9.8 million. That seems like a lot! We can try rerunning this code with threshold values of 0.3 and 0.5. Do you see the estimated losses changing? How do we find a good threshold value based on these metrics alone?"
      ]
    },
    {
      "cell_type": "code",
      "metadata": {
        "id": "MUhs--AbItGq",
        "colab_type": "code",
        "colab": {
          "base_uri": "https://localhost:8080/",
          "height": 35
        },
        "outputId": "3c9739f9-ef75-4ac4-ba58-bf8e0935b944"
      },
      "source": [
        "# Reassign the values of loan status based on the new threshold\n",
        "preds_df[\"loan_status\"] = preds_df[\"prob_default\"].apply(lambda x: 1 if x > 0.3 else 0)\n",
        "\n",
        "# Store the number of loan defaults from the prediction data\n",
        "num_defaults = preds_df[\"loan_status\"].value_counts()[1]\n",
        "\n",
        "# Store the default recall from the classification report\n",
        "default_recall = precision_recall_fscore_support(y_test,preds_df[\"loan_status\"])[1][1]\n",
        "\n",
        "# Calculate the estimated impact of the new default recall rate\n",
        "print(num_defaults * avg_loan_amnt * (1 - default_recall))"
      ],
      "execution_count": 89,
      "outputs": [
        {
          "output_type": "stream",
          "text": [
            "14037376.179182043\n"
          ],
          "name": "stdout"
        }
      ]
    },
    {
      "cell_type": "code",
      "metadata": {
        "id": "6unpPeV5IuKc",
        "colab_type": "code",
        "colab": {
          "base_uri": "https://localhost:8080/",
          "height": 35
        },
        "outputId": "d04a2903-901b-4d67-afb2-31b1312adbb9"
      },
      "source": [
        "# Reassign the values of loan status based on the new threshold\n",
        "preds_df[\"loan_status\"] = preds_df[\"prob_default\"].apply(lambda x: 1 if x > 0.5 else 0)\n",
        "\n",
        "# Store the number of loan defaults from the prediction data\n",
        "num_defaults = preds_df[\"loan_status\"].value_counts()[1]\n",
        "\n",
        "# Store the default recall from the classification report\n",
        "default_recall = precision_recall_fscore_support(y_test,preds_df[\"loan_status\"])[1][1]\n",
        "\n",
        "# Calculate the estimated impact of the new default recall rate\n",
        "print(num_defaults * avg_loan_amnt * (1 - default_recall))"
      ],
      "execution_count": 90,
      "outputs": [
        {
          "output_type": "stream",
          "text": [
            "4568628.424083659\n"
          ],
          "name": "stdout"
        }
      ]
    },
    {
      "cell_type": "code",
      "metadata": {
        "id": "y_5bR2VXIxMD",
        "colab_type": "code",
        "colab": {
          "base_uri": "https://localhost:8080/",
          "height": 35
        },
        "outputId": "4a91f4d3-30d7-4da5-b40d-871b57b01a9e"
      },
      "source": [
        "default_recall"
      ],
      "execution_count": 91,
      "outputs": [
        {
          "output_type": "execute_result",
          "data": {
            "text/plain": [
              "0.15933641975308643"
            ]
          },
          "metadata": {
            "tags": []
          },
          "execution_count": 91
        }
      ]
    },
    {
      "cell_type": "markdown",
      "metadata": {
        "id": "AZyGJPJaSbEr",
        "colab_type": "text"
      },
      "source": [
        "### Trees\n"
      ]
    },
    {
      "cell_type": "code",
      "metadata": {
        "id": "5Wf5Sm-USDN9",
        "colab_type": "code",
        "colab": {
          "base_uri": "https://localhost:8080/",
          "height": 126
        },
        "outputId": "f38312ca-319c-44ce-b851-4f0f04f4e0ce"
      },
      "source": [
        "# Train a model\n",
        "import xgboost as xgb\n",
        "clf_gbt = xgb.XGBClassifier().fit(X_train, np.ravel(y_train))\n",
        "\n",
        "# Predict with a model\n",
        "gbt_preds = clf_gbt.predict_proba(X_test)\n",
        "\n",
        "# Create dataframes of first five predictions, and first five true labels\n",
        "preds_df = pd.DataFrame(gbt_preds[:,1][0:5], columns = ['prob_default'])\n",
        "true_df = y_test.head()\n",
        "\n",
        "# Concatenate and print the two data frames for comparison\n",
        "print(pd.concat([true_df.reset_index(drop = True), preds_df], axis = 1))"
      ],
      "execution_count": 92,
      "outputs": [
        {
          "output_type": "stream",
          "text": [
            "   loan_status  prob_default\n",
            "0            0      0.088257\n",
            "1            0      0.007205\n",
            "2            0      0.024410\n",
            "3            0      0.095778\n",
            "4            0      0.226402\n"
          ],
          "name": "stdout"
        }
      ]
    },
    {
      "cell_type": "markdown",
      "metadata": {
        "id": "ABeFmvh2VVWz",
        "colab_type": "text"
      },
      "source": [
        "![img](https://assets.datacamp.com/production/repositories/4876/datasets/0dd41a0ed2e9e8bbe1b91a0c3df4935e327c9206/3_3_formula.PNG)\n"
      ]
    },
    {
      "cell_type": "markdown",
      "metadata": {
        "id": "QFmuO5agVkR6",
        "colab_type": "text"
      },
      "source": [
        "In [2]: print(portfolio.head())\n",
        "  \n",
        "\n",
        "```\n",
        "   gbt_prob_default  lr_prob_default  lgd  loan_amnt\n",
        "0          0.940435         0.445779  0.2      15000\n",
        "1          0.922014         0.223447  0.2      11200\n",
        "2          0.021707         0.288558  0.2      15000\n",
        "3          0.026483         0.169358  0.2      10800\n",
        "4          0.064803         0.114182  0.2       3000\n",
        "```\n",
        "\n"
      ]
    },
    {
      "cell_type": "code",
      "metadata": {
        "id": "w-kn0CQrSev5",
        "colab_type": "code",
        "colab": {}
      },
      "source": [
        "# Print the first five rows of the portfolio data frame\n",
        "print(portfolio.head())\n",
        "\n",
        "# Create expected loss columns for each model using the formula\n",
        "portfolio[\"lr_expected_loss\"] = portfolio[\"lr_prob_default\"] * portfolio[\"lgd\"] * portfolio[\"loan_amnt\"]\n",
        "portfolio[\"gbt_expected_loss\"] = portfolio[\"gbt_prob_default\"] * portfolio[\"lgd\"] * portfolio[\"loan_amnt\"]\n",
        "\n",
        "# Print the sum of the expected loss for lr\n",
        "print('LR expected loss: ', np.sum(portfolio[\"lr_expected_loss\"]))\n",
        "\n",
        "# Print the sum of the expected loss for gbt\n",
        "print('GBT expected loss: ', np.sum(portfolio[\"gbt_expected_loss\"]))"
      ],
      "execution_count": 0,
      "outputs": []
    },
    {
      "cell_type": "markdown",
      "metadata": {
        "id": "jmdr7H4pWBBS",
        "colab_type": "text"
      },
      "source": [
        "LR expected loss:  5596776.979852879\n",
        "\n",
        "GBT expected loss:  5447712.9423716515\n",
        "\n",
        "Great! It looks like the total expected loss for the XGBClassifier() model is quite a bit lower. When we talk about accuracy and precision, the goal is to generate models which have a low expected loss. Looking at a classification_report() helps as well.\n"
      ]
    },
    {
      "cell_type": "code",
      "metadata": {
        "id": "uESIWnD7VlS3",
        "colab_type": "code",
        "colab": {
          "base_uri": "https://localhost:8080/",
          "height": 199
        },
        "outputId": "0d6f66f2-2fc2-4453-8ff5-c54b40ac18d1"
      },
      "source": [
        "# Predict the labels for loan status\n",
        "gbt_preds = clf_gbt.predict(X_test)\n",
        "\n",
        "# Check the values created by the predict method\n",
        "print(gbt_preds)\n",
        "\n",
        "# Print the classification report of the model\n",
        "target_names = ['Non-Default', 'Default']\n",
        "print(classification_report(y_test, gbt_preds, target_names=target_names))"
      ],
      "execution_count": 93,
      "outputs": [
        {
          "output_type": "stream",
          "text": [
            "[0 0 0 ... 1 0 1]\n",
            "              precision    recall  f1-score   support\n",
            "\n",
            " Non-Default       0.92      0.99      0.95      9194\n",
            "     Default       0.95      0.70      0.81      2592\n",
            "\n",
            "    accuracy                           0.93     11786\n",
            "   macro avg       0.94      0.85      0.88     11786\n",
            "weighted avg       0.93      0.93      0.92     11786\n",
            "\n"
          ],
          "name": "stdout"
        }
      ]
    },
    {
      "cell_type": "code",
      "metadata": {
        "id": "81W8MCx0WTnc",
        "colab_type": "code",
        "colab": {
          "base_uri": "https://localhost:8080/",
          "height": 55
        },
        "outputId": "1f2ff230-35ed-458c-d3e2-dab3400c8ae8"
      },
      "source": [
        "# Create and train the model on the training data\n",
        "clf_gbt = xgb.XGBClassifier().fit(X_train,np.ravel(y_train))\n",
        "\n",
        "# Print the column importances from the model\n",
        "print(clf_gbt.get_booster().get_score(importance_type = 'weight'))"
      ],
      "execution_count": 94,
      "outputs": [
        {
          "output_type": "stream",
          "text": [
            "{'loan_percent_income': 62, 'loan_int_rate': 110, 'person_income': 123, 'person_emp_length': 23, 'person_home_ownership_RENT': 51, 'loan_grade_C': 9, 'loan_intent_DEBTCONSOLIDATION': 26, 'loan_grade_D': 33, 'loan_intent_MEDICAL': 28, 'person_home_ownership_OWN': 42, 'loan_intent_HOMEIMPROVEMENT': 25, 'loan_intent_VENTURE': 20, 'loan_grade_E': 17, 'loan_intent_EDUCATION': 6, 'cb_person_cred_hist_length': 1, 'person_home_ownership_OTHER': 4, 'loan_grade_G': 14, 'loan_amnt': 9, 'cb_person_default_on_file_N': 1, 'person_home_ownership_MORTGAGE': 2, 'person_age': 4, 'loan_grade_F': 1}\n"
          ],
          "name": "stdout"
        }
      ]
    },
    {
      "cell_type": "code",
      "metadata": {
        "id": "SyiSOHrzYgbN",
        "colab_type": "code",
        "colab": {}
      },
      "source": [
        "fig_size = plt.rcParams[\"figure.figsize\"]\n",
        "fig_size[0] = 10\n",
        "fig_size[1] = 8\n",
        "plt.rcParams[\"figure.figsize\"] = fig_size"
      ],
      "execution_count": 0,
      "outputs": []
    },
    {
      "cell_type": "code",
      "metadata": {
        "id": "RHsFUnBtWatM",
        "colab_type": "code",
        "colab": {
          "base_uri": "https://localhost:8080/",
          "height": 513
        },
        "outputId": "9cc49f8a-0bb1-40dd-983c-1d39a73ba87b"
      },
      "source": [
        "\n",
        "# Train model\n",
        "clf_gbt2 = xgb.XGBClassifier().fit(X_train,np.ravel(y_train))\n",
        "# Plot the column importance for this model\n",
        "xgb.plot_importance(clf_gbt2, importance_type = 'weight')\n",
        "# plt.figure(figsize=(50,30))\n",
        "plt.show()"
      ],
      "execution_count": 104,
      "outputs": [
        {
          "output_type": "display_data",
          "data": {
            "image/png": "[encoded data removed]",
            "text/plain": [
              "<Figure size 720x576 with 1 Axes>"
            ]
          },
          "metadata": {
            "tags": []
          }
        }
      ]
    },
    {
      "cell_type": "markdown",
      "metadata": {
        "id": "9mTQuYe1ZCzm",
        "colab_type": "text"
      },
      "source": [
        "### Cross validating credit models"
      ]
    },
    {
      "cell_type": "code",
      "metadata": {
        "id": "jU9l3uMGXJpw",
        "colab_type": "code",
        "colab": {
          "base_uri": "https://localhost:8080/",
          "height": 126
        },
        "outputId": "1a50648f-ce55-4ed3-afce-e6264a7670f4"
      },
      "source": [
        "# Set the values for number of folds and stopping iterations\n",
        "n_folds = 5\n",
        "early_stopping = 10\n",
        "params = {'eval_metric': 'auc', 'objective': 'binary:logistic', 'seed': 123}\n",
        "\n",
        "# Create the DTrain matrix for XGBoost\n",
        "DTrain = xgb.DMatrix(X_train, label = y_train)\n",
        "\n",
        "# Create the data frame of cross validations\n",
        "cv_df = xgb.cv(params, DTrain, num_boost_round = 5, nfold=n_folds,\n",
        "            early_stopping_rounds=early_stopping)\n",
        "\n",
        "# Print the cross validations data frame\n",
        "print(cv_df)"
      ],
      "execution_count": 106,
      "outputs": [
        {
          "output_type": "stream",
          "text": [
            "   train-auc-mean  train-auc-std  test-auc-mean  test-auc-std\n",
            "0        0.895947       0.002251       0.891604      0.009428\n",
            "1        0.902931       0.003206       0.897648      0.008133\n",
            "2        0.911380       0.001820       0.905553      0.007240\n",
            "3        0.915385       0.000750       0.908138      0.008153\n",
            "4        0.920330       0.001100       0.912328      0.006981\n"
          ],
          "name": "stdout"
        }
      ]
    },
    {
      "cell_type": "code",
      "metadata": {
        "id": "Vu0wshSiZlFe",
        "colab_type": "code",
        "colab": {}
      },
      "source": [
        "# Create the data frame of cross validations\n",
        "cv_results_big = xgb.cv(params, DTrain, num_boost_round = 600, nfold=n_folds)"
      ],
      "execution_count": 0,
      "outputs": []
    },
    {
      "cell_type": "code",
      "metadata": {
        "id": "-bZM15JxZEau",
        "colab_type": "code",
        "colab": {
          "base_uri": "https://localhost:8080/",
          "height": 622
        },
        "outputId": "d00eefba-acf2-4ce1-a863-4b7a6556919a"
      },
      "source": [
        "# Print the first five rows of the CV results data frame\n",
        "print(cv_results_big.head())\n",
        "\n",
        "# Calculate the mean of the test AUC scores\n",
        "# print(np.mean(cv_results_big[\"test-auc-mean\"]).round(2))\n",
        "\n",
        "# Plot the test AUC scores for each iteration\n",
        "plt.plot(cv_results_big[\"test-auc-mean\"])\n",
        "plt.title('Test AUC Score Over 600 Iterations')\n",
        "plt.xlabel('Iteration Number')\n",
        "plt.ylabel('Test AUC Score')\n",
        "plt.show()"
      ],
      "execution_count": 112,
      "outputs": [
        {
          "output_type": "stream",
          "text": [
            "   train-auc-mean  train-auc-std  test-auc-mean  test-auc-std\n",
            "0        0.895947       0.002251       0.891604      0.009428\n",
            "1        0.902931       0.003206       0.897648      0.008133\n",
            "2        0.911380       0.001820       0.905553      0.007240\n",
            "3        0.915385       0.000750       0.908138      0.008153\n",
            "4        0.920330       0.001100       0.912328      0.006981\n"
          ],
          "name": "stdout"
        },
        {
          "output_type": "display_data",
          "data": {
            "image/png": "[encoded data removed]",
            "text/plain": [
              "<Figure size 720x576 with 1 Axes>"
            ]
          },
          "metadata": {
            "tags": []
          }
        }
      ]
    },
    {
      "cell_type": "code",
      "metadata": {
        "id": "KR7YUpkCZsV-",
        "colab_type": "code",
        "colab": {
          "base_uri": "https://localhost:8080/",
          "height": 54
        },
        "outputId": "d15aafe3-8dcc-41a2-f70f-9a586624f100"
      },
      "source": [
        "# Create a gradient boosted tree model using two hyperparameters\n",
        "gbt = xgb.XGBClassifier(learning_rate= 0.1, max_depth = 7)\n",
        "\n",
        "# Calculate the cross validation scores for 4 folds\n",
        "cv_scores = cross_val_score(gbt, X_train, np.ravel(y_train), cv = 4)\n",
        "\n",
        "# Print the cross validation scores\n",
        "print(cv_scores)\n",
        "\n",
        "# Print the average accuracy and standard deviation of the scores\n",
        "print(\"Average accuracy: %0.2f (+/- %0.2f)\" % (cv_scores.mean(),\n",
        "                                              cv_scores.std() * 2))"
      ],
      "execution_count": 115,
      "outputs": [
        {
          "output_type": "stream",
          "text": [
            "[0.93574661 0.92986425 0.93506787 0.92984838]\n",
            "Average accuracy: 0.93 (+/- 0.01)\n"
          ],
          "name": "stdout"
        }
      ]
    },
    {
      "cell_type": "markdown",
      "metadata": {
        "id": "ZLWeCZ-GbWj9",
        "colab_type": "text"
      },
      "source": [
        "Our average cv_score for this course is getting higher! With only a couple of hyperparameters and cross-validation, we can get the average accuracy up to 93%. This is a great way to validate how robust the model is"
      ]
    },
    {
      "cell_type": "markdown",
      "metadata": {
        "id": "97a89PSSb00e",
        "colab_type": "text"
      },
      "source": [
        "### Solving class imbalance problem"
      ]
    },
    {
      "cell_type": "markdown",
      "metadata": {
        "id": "r9wtjgfkb7w8",
        "colab_type": "text"
      },
      "source": [
        "#### Undersampling training data\n"
      ]
    },
    {
      "cell_type": "code",
      "metadata": {
        "id": "Z7xlOXUzai6W",
        "colab_type": "code",
        "colab": {}
      },
      "source": [
        "X_y_train = pd.concat([X_train.reset_index(drop = True),\n",
        "                       y_train.reset_index(drop = True)], axis = 1)\n",
        "count_nondefault, count_default = X_y_train['loan_status'].value_counts()"
      ],
      "execution_count": 0,
      "outputs": []
    },
    {
      "cell_type": "code",
      "metadata": {
        "id": "AkP-ut3Ybu1V",
        "colab_type": "code",
        "colab": {
          "base_uri": "https://localhost:8080/",
          "height": 72
        },
        "outputId": "f3615aed-120e-407d-dfae-fa207072e09c"
      },
      "source": [
        "# Create data sets for defaults and non-defaults\n",
        "nondefaults = X_y_train[X_y_train['loan_status'] == 0]\n",
        "defaults = X_y_train[X_y_train['loan_status'] == 1]\n",
        "\n",
        "# Undersample the non-defaults\n",
        "nondefaults_under = nondefaults.sample(count_default)\n",
        "\n",
        "# Concatenate the undersampled nondefaults with defaults\n",
        "X_y_train_under = pd.concat([nondefaults_under.reset_index(drop = True),\n",
        "                             defaults.reset_index(drop = True)], axis = 0)\n",
        "\n",
        "# Print the value counts for loan status\n",
        "print(X_y_train_under[\"loan_status\"].value_counts())"
      ],
      "execution_count": 117,
      "outputs": [
        {
          "output_type": "stream",
          "text": [
            "1    3872\n",
            "0    3872\n",
            "Name: loan_status, dtype: int64\n"
          ],
          "name": "stdout"
        }
      ]
    },
    {
      "cell_type": "code",
      "metadata": {
        "id": "z-JDkTIVcz9N",
        "colab_type": "code",
        "colab": {
          "base_uri": "https://localhost:8080/",
          "height": 217
        },
        "outputId": "668630d6-2572-484e-a5ad-ba7308ecb11c"
      },
      "source": [
        "X_y_train_under.columns"
      ],
      "execution_count": 118,
      "outputs": [
        {
          "output_type": "execute_result",
          "data": {
            "text/plain": [
              "Index(['person_age', 'person_income', 'person_emp_length', 'loan_amnt',\n",
              "       'loan_int_rate', 'loan_percent_income', 'cb_person_cred_hist_length',\n",
              "       'person_home_ownership_MORTGAGE', 'person_home_ownership_OTHER',\n",
              "       'person_home_ownership_OWN', 'person_home_ownership_RENT',\n",
              "       'loan_intent_DEBTCONSOLIDATION', 'loan_intent_EDUCATION',\n",
              "       'loan_intent_HOMEIMPROVEMENT', 'loan_intent_MEDICAL',\n",
              "       'loan_intent_PERSONAL', 'loan_intent_VENTURE', 'loan_grade_A',\n",
              "       'loan_grade_B', 'loan_grade_C', 'loan_grade_D', 'loan_grade_E',\n",
              "       'loan_grade_F', 'loan_grade_G', 'cb_person_default_on_file_N',\n",
              "       'cb_person_default_on_file_Y', 'loan_status'],\n",
              "      dtype='object')"
            ]
          },
          "metadata": {
            "tags": []
          },
          "execution_count": 118
        }
      ]
    },
    {
      "cell_type": "markdown",
      "metadata": {
        "id": "BLtWCxvTeAeU",
        "colab_type": "text"
      },
      "source": [
        "### Some metrics compared on older model and newer undersampled data"
      ]
    },
    {
      "cell_type": "markdown",
      "metadata": {
        "id": "fHehOsvbcYzs",
        "colab_type": "text"
      },
      "source": [
        "\n",
        "\n",
        "```\n",
        "# Check the classification reports\n",
        "target_names = ['Non-Default', 'Default']\n",
        "print(classification_report(y_test, gbt_preds, target_names=target_names))\n",
        "print(classification_report(y_test, gbt2_preds, target_names=target_names))\n",
        "\n",
        "output:\n",
        "                  precision    recall  f1-score   support\n",
        "    \n",
        "     Non-Default       0.93      0.99      0.96      9198\n",
        "         Default       0.95      0.73      0.83      2586\n",
        "    \n",
        "       micro avg       0.93      0.93      0.93     11784\n",
        "       macro avg       0.94      0.86      0.89     11784\n",
        "    weighted avg       0.93      0.93      0.93     11784\n",
        "    \n",
        "                  precision    recall  f1-score   support\n",
        "    \n",
        "     Non-Default       0.95      0.91      0.93      9198\n",
        "         Default       0.72      0.84      0.77      2586\n",
        "    \n",
        "       micro avg       0.89      0.89      0.89     11784\n",
        "       macro avg       0.83      0.87      0.85     11784\n",
        "    weighted avg       0.90      0.89      0.89     11784\n",
        "    \n",
        "    \n",
        "# Print the confusion matrix for both old and new models\n",
        "print(confusion_matrix(y_test,gbt_preds))\n",
        "print(confusion_matrix(y_test,gbt2_preds))\n",
        "\n",
        "Output:    \n",
        "    [[9105   93]\n",
        "     [ 691 1895]]\n",
        "    [[8338  860]\n",
        "     [ 426 2160]]\n",
        "     \n",
        "# Print and compare the AUC scores of the old and new models\n",
        "print(roc_auc_score(y_test, gbt_preds))\n",
        "print(roc_auc_score(y_test, gbt2_preds))\n",
        "\n",
        "Output:   \n",
        "      0.8613405315086655\n",
        "      0.870884117348218\n",
        "```\n",
        "\n"
      ]
    },
    {
      "cell_type": "code",
      "metadata": {
        "id": "Qr-Cns4dbzHt",
        "colab_type": "code",
        "colab": {}
      },
      "source": [
        "# Print the logistic regression classification report\n",
        "target_names = ['Non-Default', 'Default']\n",
        "print(classification_report(y_test, preds_df_lr['loan_status'], target_names=target_names))\n",
        "\n",
        "# Print the gradient boosted tree classification report\n",
        "print(classification_report(y_test, preds_df_gbt['loan_status'], target_names=target_names))\n",
        "\n",
        "# Print the default F-1 scores for the logistic regression\n",
        "print(precision_recall_fscore_support(y_test,preds_df_lr['loan_status'], average = 'macro')[2])\n",
        "\n",
        "# Print the default F-1 scores for the gradient boosted tree\n",
        "print(precision_recall_fscore_support(y_test,preds_df_gbt['loan_status'], average = 'macro')[2])"
      ],
      "execution_count": 0,
      "outputs": []
    },
    {
      "cell_type": "markdown",
      "metadata": {
        "id": "pWD-ITHleqsD",
        "colab_type": "text"
      },
      "source": [
        "\n",
        "\n",
        "```\n",
        "              precision    recall  f1-score   support\n",
        "\n",
        " Non-Default       0.86      0.92      0.89      9198\n",
        "     Default       0.62      0.46      0.53      2586\n",
        "\n",
        "   micro avg       0.82      0.82      0.82     11784\n",
        "   macro avg       0.74      0.69      0.71     11784\n",
        "weighted avg       0.81      0.82      0.81     11784\n",
        "\n",
        "              precision    recall  f1-score   support\n",
        "\n",
        " Non-Default       0.93      0.99      0.96      9198\n",
        "     Default       0.94      0.73      0.82      2586\n",
        "\n",
        "   micro avg       0.93      0.93      0.93     11784\n",
        "   macro avg       0.93      0.86      0.89     11784\n",
        "weighted avg       0.93      0.93      0.93     11784\n",
        "\n",
        "0.7108943782814463\n",
        "0.8909014142736051\n",
        "```\n",
        "\n"
      ]
    },
    {
      "cell_type": "code",
      "metadata": {
        "id": "FQkBX80Fj7Z6",
        "colab_type": "code",
        "colab": {
          "base_uri": "https://localhost:8080/",
          "height": 870
        },
        "outputId": "d2364160-819f-4e87-d38e-468c83ce8226"
      },
      "source": [
        "from IPython.display import Image\n",
        "Image(filename='plot.png')"
      ],
      "execution_count": 121,
      "outputs": [
        {
          "output_type": "execute_result",
          "data": {
            "image/png": "[encoded data removed]",
            "text/plain": [
              "<IPython.core.display.Image object>"
            ]
          },
          "metadata": {
            "tags": []
          },
          "execution_count": 121
        }
      ]
    },
    {
      "cell_type": "code",
      "metadata": {
        "id": "a9q6fJFwhcMR",
        "colab_type": "code",
        "colab": {}
      },
      "source": [
        "# Add the calibration curve for the gradient boosted tree\n",
        "plt.plot([0, 1], [0, 1], 'k:', label='Perfectly calibrated')    \n",
        "plt.plot(mean_pred_val_lr, frac_of_pos_lr,\n",
        "         's-', label='%s' % 'Logistic Regression')\n",
        "plt.plot(mean_pred_val_gbt, frac_of_pos_gbt,\n",
        "         's-', label='%s' % \"Gradient Boosted tree\")\n",
        "plt.ylabel('Fraction of positives')\n",
        "plt.xlabel('Average Predicted Probability')\n",
        "plt.legend()\n",
        "plt.title('Calibration Curve')\n",
        "plt.show()"
      ],
      "execution_count": 0,
      "outputs": []
    },
    {
      "cell_type": "code",
      "metadata": {
        "id": "BRW6LwxLkCeA",
        "colab_type": "code",
        "colab": {}
      },
      "source": [
        "\n",
        "from IPython.display import SVG, display\n",
        "# Image(filename='calibrated_plot.svg')\n",
        "display(filename='calibrated_plot.svg')"
      ],
      "execution_count": 0,
      "outputs": []
    },
    {
      "cell_type": "markdown",
      "metadata": {
        "id": "ez2JJ8gqyVMm",
        "colab_type": "text"
      },
      "source": [
        "### Acceptance rates\n",
        "\n",
        "Setting an acceptance rate and calculating the threshold for that rate can be used to set the percentage of new loans you want to accept. For this exercise, assume the test data is a fresh batch of new loans."
      ]
    },
    {
      "cell_type": "code",
      "metadata": {
        "id": "eNndwt7QzRsW",
        "colab_type": "code",
        "colab": {
          "base_uri": "https://localhost:8080/",
          "height": 35
        },
        "outputId": "21416711-a616-4b3e-ed06-e8e82b7e8f67"
      },
      "source": [
        "preds_df.columns\n",
        "test_pred_df = pd.concat()"
      ],
      "execution_count": 127,
      "outputs": [
        {
          "output_type": "execute_result",
          "data": {
            "text/plain": [
              "Index(['prob_default'], dtype='object')"
            ]
          },
          "metadata": {
            "tags": []
          },
          "execution_count": 127
        }
      ]
    },
    {
      "cell_type": "code",
      "metadata": {
        "id": "r_WK7HxEkJzP",
        "colab_type": "code",
        "colab": {}
      },
      "source": [
        "# Check the statistics of the probabilities of default\n",
        "print(preds_df['prob_default'].describe())\n",
        "\n",
        "# Calculate the threshold for a 85% acceptance rate\n",
        "threshold_85 = np.quantile(test_pred_df['prob_default'], 0.85)\n",
        "\n",
        "# Apply acceptance rate threshold\n",
        "test_pred_df['pred_loan_status'] = test_pred_df['prob_default'].apply(lambda x: 1 if x > threshold_85 else 0)\n",
        "\n",
        "# Print the counts of loan status after the threshold\n",
        "print(test_pred_df['pred_loan_status'].value_counts())"
      ],
      "execution_count": 0,
      "outputs": []
    },
    {
      "cell_type": "markdown",
      "metadata": {
        "id": "x9yZvGEy2FNS",
        "colab_type": "text"
      },
      "source": [
        "\n",
        "\n",
        "```\n",
        " output:\n",
        "    count    11784.000000\n",
        "    mean         0.216866\n",
        "    std          0.333038\n",
        "    min          0.000354\n",
        "    25%          0.022246\n",
        "    50%          0.065633\n",
        "    75%          0.177804\n",
        "    max          0.999557\n",
        "    Name: prob_default, dtype: float64\n",
        "    0    10016\n",
        "    1     1768\n",
        "    Name: pred_loan_status, dtype: int64\n",
        "```\n",
        "\n"
      ]
    },
    {
      "cell_type": "code",
      "metadata": {
        "id": "7PTHORyQ2Kbk",
        "colab_type": "code",
        "colab": {}
      },
      "source": [
        "# Plot the predicted probabilities of default\n",
        "plt.hist(clf_gbt_preds, color = 'blue', bins = 40)\n",
        "\n",
        "# Calculate the threshold with quantile\n",
        "threshold = np.quantile(clf_gbt_preds, 0.85)\n",
        "\n",
        "# Add a reference line to the plot for the threshold\n",
        "plt.axvline(x = threshold, color = 'red')\n",
        "plt.show()"
      ],
      "execution_count": 0,
      "outputs": []
    },
    {
      "cell_type": "markdown",
      "metadata": {
        "id": "rOmk_A392k3j",
        "colab_type": "text"
      },
      "source": [
        "![img](https://im7.ezgif.com/tmp/ezgif-7-91bf57b5a3c0.png)"
      ]
    },
    {
      "cell_type": "code",
      "metadata": {
        "id": "xIlRKsSv3fGk",
        "colab_type": "code",
        "colab": {}
      },
      "source": [
        "# Print the top 5 rows of the new data frame\n",
        "print(test_pred_df.head())\n",
        "\n",
        "# Create a subset of only accepted loans\n",
        "accepted_loans = test_pred_df[test_pred_df['pred_loan_status'] == 0]\n",
        "\n",
        "# Calculate the bad rate\n",
        "print(np.sum(accepted_loans['true_loan_status']) / accepted_loans['true_loan_status'].count())"
      ],
      "execution_count": 0,
      "outputs": []
    },
    {
      "cell_type": "markdown",
      "metadata": {
        "id": "HKmd-m1J4vrL",
        "colab_type": "text"
      },
      "source": [
        "\n",
        "\n",
        "```\n",
        "   true_loan_status  prob_default  pred_loan_status\n",
        "0                 1      0.982387                 1\n",
        "1                 1      0.975163                 1\n",
        "2                 0      0.003474                 0\n",
        "3                 0      0.005457                 0\n",
        "4                 1      0.119876                 0\n",
        "0.08256789137380191\n",
        "```\n",
        "\n"
      ]
    },
    {
      "cell_type": "code",
      "metadata": {
        "id": "1p82fX5b40La",
        "colab_type": "code",
        "colab": {}
      },
      "source": [
        "# Print the statistics of the loan amount column\n",
        "print(test_pred_df[\"loan_amnt\"].describe())\n",
        "\n",
        "# Store the average loan amount\n",
        "avg_loan = np.mean(test_pred_df[\"loan_amnt\"])\n",
        "\n",
        "# Set the formatting for currency, and print the cross tab\n",
        "pd.options.display.float_format = '${:,.2f}'.format\n",
        "print(pd.crosstab(test_pred_df.true_loan_status,\n",
        "                 test_pred_df.pred_loan_status_15).apply(lambda x: x * avg_loan, axis = 0))"
      ],
      "execution_count": 0,
      "outputs": []
    },
    {
      "cell_type": "markdown",
      "metadata": {
        "id": "iYd7S9Fj46nL",
        "colab_type": "text"
      },
      "source": [
        "\n",
        "\n",
        "```\n",
        "count    11784.000000\n",
        "mean      9556.283944\n",
        "std       6238.005674\n",
        "min        500.000000\n",
        "25%       5000.000000\n",
        "50%       8000.000000\n",
        "75%      12000.000000\n",
        "max      35000.000000\n",
        "Name: loan_amnt, dtype: float64\n",
        "pred_loan_status_15              0              1\n",
        "true_loan_status                                 \n",
        "0                   $87,812,693.16     $86,006.56\n",
        "1                    $7,903,046.82 $16,809,503.46\n",
        "```\n",
        "\n"
      ]
    },
    {
      "cell_type": "markdown",
      "metadata": {
        "id": "23TWeB4X5BIj",
        "colab_type": "text"
      },
      "source": [
        "Nice! With this, we can see that our bad rate of about 8% represents an estimated loan value of about 7.9 million dollars. This may seem like a lot at first, but compare it to the total value of non-default loans! With this, we are ready to start talking about our acceptance strategy going forward"
      ]
    },
    {
      "cell_type": "markdown",
      "metadata": {
        "id": "nELv5Sjp5Vyc",
        "colab_type": "text"
      },
      "source": [
        "## Strategy Table\n",
        "\n",
        "\n",
        "```\n",
        "Acceptance Rate  Threshold  Bad Rate  Num Accepted Loans  Avg Loan Amnt  Estimated Value\n",
        "0              1.00      1.000     0.219               11379        9556.28      61112391.49\n",
        "1              0.95      0.992     0.179               10591        9556.28      64977180.47\n",
        "2              0.90      0.976     0.132               10025        9556.28      70510056.35\n",
        "3              0.85      0.804     0.083                9390        9556.28      74837713.31\n",
        "4              0.80      0.254     0.061                8857        9556.28      74313895.38\n",
        "5              0.75      0.178     0.052                8229        9556.28      70460210.80\n",
        "6              0.70      0.138     0.043                7685        9556.28      67124170.79\n",
        "7              0.65      0.111     0.036                7104        9556.28      62999890.58\n",
        "8              0.60      0.093     0.030                6456        9556.28      57993623.06\n",
        "9              0.55      0.078     0.027                5870        9556.28      53066213.97\n",
        "10             0.50      0.066     0.023                5288        9556.28      48209062.64\n",
        "11             0.45      0.055     0.020                4726        9556.28      43356460.11\n",
        "12             0.40      0.045     0.017                4131        9556.28      38134774.93\n",
        "13             0.35      0.037     0.014                3536        9556.28      32844857.91\n",
        "14             0.30      0.030     0.010                2941        9556.28      27542919.09\n",
        "15             0.25      0.022     0.008                2359        9556.28      22182572.29\n",
        "16             0.20      0.015     0.005                1768        9556.28      16726548.01\n",
        "17             0.15      0.008     0.001                1187        9556.28      11320617.75\n",
        "18             0.10      0.004     0.000                 576        9556.28       5504417.28\n",
        "19             0.05      0.002     0.000                 405        9556.28       3870293.40\n",
        "```\n",
        "\n"
      ]
    },
    {
      "cell_type": "code",
      "metadata": {
        "id": "FopTxQa46nTJ",
        "colab_type": "code",
        "colab": {}
      },
      "source": [
        "# Create a line plot of estimated value\n",
        "plt.plot(strat_df[\"Acceptance Rate\"],strat_df['Estimated Value'])\n",
        "plt.title('Estimated Value by Acceptance Rate')\n",
        "plt.xlabel('Acceptance Rate')\n",
        "plt.ylabel('Estimated Value')\n",
        "plt.axes().yaxis.grid()\n",
        "plt.show()"
      ],
      "execution_count": 0,
      "outputs": []
    },
    {
      "cell_type": "code",
      "metadata": {
        "id": "XGx8_oiR5C5L",
        "colab_type": "code",
        "colab": {
          "base_uri": "https://localhost:8080/",
          "height": 631
        },
        "outputId": "8a34b941-0ca1-49d4-bf89-552ba8c4055d"
      },
      "source": [
        "from IPython.display import Image\n",
        "Image(filename='line_plot.PNG')"
      ],
      "execution_count": 137,
      "outputs": [
        {
          "output_type": "execute_result",
          "data": {
            "image/png": "[encoded data removed]",
            "text/plain": [
              "<IPython.core.display.Image object>"
            ]
          },
          "metadata": {
            "tags": []
          },
          "execution_count": 137
        }
      ]
    },
    {
      "cell_type": "code",
      "metadata": {
        "id": "IMn3iNAd6lR-",
        "colab_type": "code",
        "colab": {}
      },
      "source": [
        "print(strat_df.loc[strat_df['Estimated Value'] == np.max(strat_df['Estimated Value'])])"
      ],
      "execution_count": 0,
      "outputs": []
    },
    {
      "cell_type": "markdown",
      "metadata": {
        "id": "QWrjbBfc66Z1",
        "colab_type": "text"
      },
      "source": [
        "\n",
        "\n",
        "```\n",
        " Acceptance Rate  Threshold  Bad Rate  Num Accepted Loans  Avg Loan Amnt  Estimated Value\n",
        "3             0.85      0.804     0.083                9390        9556.28      74837713.31\n",
        "\n",
        "```\n",
        "\n"
      ]
    },
    {
      "cell_type": "markdown",
      "metadata": {
        "id": "JfM910DN7DhJ",
        "colab_type": "text"
      },
      "source": [
        "Interesting! With our credit data and our estimated averag loan value, we clearly see that the acceptance rate 0.85 has the highest potential estimated value. Normally, the allowable bad rate is set, but we can use analyses like this to explore other options."
      ]
    },
    {
      "cell_type": "markdown",
      "metadata": {
        "id": "5IYkjSGe8TCw",
        "colab_type": "text"
      },
      "source": [
        "### Total expected loss\n"
      ]
    },
    {
      "cell_type": "markdown",
      "metadata": {
        "id": "bRFXlJzL8LuK",
        "colab_type": "text"
      },
      "source": [
        "![alt text](https://assets.datacamp.com/production/repositories/4876/datasets/400c5af283154c39409e96b06dbdbb715a242859/4_10_tot_calc.PNG)"
      ]
    },
    {
      "cell_type": "markdown",
      "metadata": {
        "id": "mbbqH_nr8aZt",
        "colab_type": "text"
      },
      "source": [
        "For this case, we will assume that the exposure (EAD) is the full value of the loan, and the loss given default(LGD) is 100%. where PD = Probability of default"
      ]
    },
    {
      "cell_type": "code",
      "metadata": {
        "id": "JB0DfFYX7E9D",
        "colab_type": "code",
        "colab": {}
      },
      "source": [
        "# Print the first five rows of the data frame\n",
        "print(test_pred_df.head())\n",
        "\n",
        "# Calculate the bank's expected loss and assign it to a new column\n",
        "test_pred_df[\"expected_loss\"] = test_pred_df[\"prob_default\"] * test_pred_df[\"loss_given_default\"] * test_pred_df[\"loan_amnt\"]\n",
        "\n",
        "# Calculate the total expected loss to two decimal places\n",
        "tot_exp_loss = round(np.sum(test_pred_df[\"expected_loss\"]),2)\n",
        "\n",
        "# Print the total expected loss\n",
        "print('Total expected loss: ', '${:,.2f}'.format(tot_exp_loss))"
      ],
      "execution_count": 0,
      "outputs": []
    },
    {
      "cell_type": "markdown",
      "metadata": {
        "id": "-uouyKY982Vo",
        "colab_type": "text"
      },
      "source": [
        "\n",
        "\n",
        "```\n",
        "   true_loan_status  prob_default  loan_amnt  loss_given_default\n",
        "0                 1      0.982387      15000                 1.0\n",
        "1                 1      0.975163      11200                 1.0\n",
        "2                 0      0.003474      15000                 1.0\n",
        "3                 0      0.005457      10800                 1.0\n",
        "4                 1      0.119876       3000                 1.0\n",
        "Total expected loss:  $27,084,153.38\n",
        "```\n",
        "\n"
      ]
    },
    {
      "cell_type": "markdown",
      "metadata": {
        "id": "I-7qnqpL9iUX",
        "colab_type": "text"
      },
      "source": [
        "This is the total expected loss for the entire portfolio using the gradient boosted tree. 27 million dollars may seem like a lot, but the total expected loss would have been over $28 million with the logistic regression. Some losses are unavoidable, but your work here might have saved the company a million dollars!"
      ]
    },
    {
      "cell_type": "code",
      "metadata": {
        "id": "7fkaqt309jNI",
        "colab_type": "code",
        "colab": {}
      },
      "source": [
        ""
      ],
      "execution_count": 0,
      "outputs": []
    }
  ]
}